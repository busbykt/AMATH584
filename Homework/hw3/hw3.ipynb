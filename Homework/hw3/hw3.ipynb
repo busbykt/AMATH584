{
 "cells": [
  {
   "cell_type": "markdown",
   "metadata": {},
   "source": [
    "AMATH 584 Homework 3  \n",
    "Kelton Busby"
   ]
  },
  {
   "cell_type": "markdown",
   "metadata": {},
   "source": [
    "# Problem 1"
   ]
  },
  {
   "cell_type": "code",
   "execution_count": 188,
   "metadata": {},
   "outputs": [],
   "source": [
    "import numpy as np\n",
    "import os\n",
    "import scipy.linalg as spl\n",
    "from matplotlib import pyplot as plt\n",
    "import pandas as pd"
   ]
  },
  {
   "cell_type": "markdown",
   "metadata": {},
   "source": [
    "## Download datasets:"
   ]
  },
  {
   "cell_type": "code",
   "execution_count": 141,
   "metadata": {},
   "outputs": [
    {
     "name": "stdout",
     "output_type": "stream",
     "text": [
      "number of images: 165\n"
     ]
    }
   ],
   "source": [
    "# Iterate through the original images folder finding all files\n",
    "filelist=[]\n",
    "for root, dirs, files in os.walk('C://Users//Kelton//UW//AMATH584//Homework//hw2/yalefaces/'):\n",
    "    for file in files:\n",
    "        #append the file name to the list\n",
    "        filelist.append(os.path.join(root,file))\n",
    "        \n",
    "print('number of images:',len(filelist))\n",
    "\n",
    "# Build a list of images from the files\n",
    "images=[]\n",
    "for imgfile in filelist:\n",
    "    images.append(plt.imread(imgfile))"
   ]
  },
  {
   "cell_type": "code",
   "execution_count": 142,
   "metadata": {},
   "outputs": [
    {
     "name": "stdout",
     "output_type": "stream",
     "text": [
      "number of images: 272\n"
     ]
    }
   ],
   "source": [
    "# Iterate through the cropped images folder finding all files\n",
    "filelist=[]\n",
    "for root, dirs, files in os.walk('C:\\\\Users\\\\Kelton\\\\UW\\\\AMATH584\\\\Homework\\\\hw2\\\\yalefaces_cropped'):\n",
    "    for file in files:\n",
    "        #append the file name to the list\n",
    "        filelist.append(os.path.join(root,file))\n",
    "        \n",
    "print('number of images:',len(filelist))\n",
    "\n",
    "# Build a list of images from the files\n",
    "cropped_images=[]\n",
    "for imgfile in filelist:\n",
    "    cropped_images.append(plt.imread(imgfile))"
   ]
  },
  {
   "cell_type": "markdown",
   "metadata": {},
   "source": [
    "## Modified Gram-Schmidt Orthogonalization Procedure"
   ]
  },
  {
   "cell_type": "code",
   "execution_count": 206,
   "metadata": {},
   "outputs": [],
   "source": [
    "def modGramSchmidt(A):\n",
    "    \n",
    "    m,n = np.shape(A)\n",
    "    Q = np.zeros([m,m])\n",
    "    R = np.zeros([m,n])\n",
    "    V = A.copy()\n",
    "    \n",
    "    \n",
    "    '''Returns an orthogonalization of input matrix A using modified Gram-Schmidt algorithm.'''\n",
    "    \n",
    "    for i in np.arange(0,n):\n",
    "        \n",
    "        R[i,i] = np.linalg.norm(V[:,i], ord=2)\n",
    "        Q[:,i]=V[:,i] / R[i,i]\n",
    "        \n",
    "        for j in np.arange(i+1,n):\n",
    "\n",
    "            R[i,j] = np.dot(np.conj(np.transpose(Q))[:,i],V[:,j])\n",
    "            V[:,j] = V[:,j] - np.dot(R[i,j],Q[:,i])            \n",
    "        \n",
    "    return Q,R\n",
    "    "
   ]
  },
  {
   "cell_type": "markdown",
   "metadata": {},
   "source": [
    "Creating a well conditioned matrix:"
   ]
  },
  {
   "cell_type": "code",
   "execution_count": 207,
   "metadata": {},
   "outputs": [],
   "source": [
    "A = np.random.randn(25,20)"
   ]
  },
  {
   "cell_type": "code",
   "execution_count": 208,
   "metadata": {},
   "outputs": [],
   "source": [
    "A.tofile('A.csv',sep=',')"
   ]
  },
  {
   "cell_type": "code",
   "execution_count": 209,
   "metadata": {},
   "outputs": [
    {
     "data": {
      "text/plain": [
       "<matplotlib.image.AxesImage at 0x1e1e91e3fc8>"
      ]
     },
     "execution_count": 209,
     "metadata": {},
     "output_type": "execute_result"
    },
    {
     "data": {
      "image/png": "[encoded data removed]",
      "text/plain": [
       "<Figure size 360x360 with 1 Axes>"
      ]
     },
     "metadata": {
      "needs_background": "light"
     },
     "output_type": "display_data"
    }
   ],
   "source": [
    "plt.figure(figsize=[5,5])\n",
    "plt.imshow(A)"
   ]
  },
  {
   "cell_type": "markdown",
   "metadata": {},
   "source": [
    "Checking the condition number:"
   ]
  },
  {
   "cell_type": "code",
   "execution_count": 210,
   "metadata": {},
   "outputs": [
    {
     "data": {
      "text/plain": [
       "18.9"
      ]
     },
     "execution_count": 210,
     "metadata": {},
     "output_type": "execute_result"
    }
   ],
   "source": [
    "np.round(np.linalg.cond(A),2)"
   ]
  },
  {
   "cell_type": "markdown",
   "metadata": {},
   "source": [
    "Comparing the modified Gram Schmidt to scipy implementation of QR orthogonalization: "
   ]
  },
  {
   "cell_type": "code",
   "execution_count": 211,
   "metadata": {},
   "outputs": [],
   "source": [
    "q,r = modGramSchmidt(A)"
   ]
  },
  {
   "cell_type": "code",
   "execution_count": 212,
   "metadata": {},
   "outputs": [],
   "source": [
    "# comparing with scipy QR\n",
    "Q, R = spl.qr(A, mode='full')"
   ]
  },
  {
   "cell_type": "markdown",
   "metadata": {},
   "source": [
    "Capital Q,R is scipy implementation.  \n",
    "Lower q,r is my implementation. "
   ]
  },
  {
   "cell_type": "code",
   "execution_count": 213,
   "metadata": {},
   "outputs": [
    {
     "data": {
      "text/plain": [
       "array([-0.08301367, -0.05846263,  0.08192336, -0.24046933,  0.25798853,\n",
       "        0.13087204, -0.13301475, -0.1548646 ,  0.31008778,  0.19531075,\n",
       "       -0.20601591,  0.11615027,  0.28352076, -0.20777097,  0.14852445,\n",
       "       -0.4944836 ,  0.31883401, -0.06544089,  0.20994889, -0.14711101,\n",
       "       -0.15468039, -0.01497177, -0.02970752,  0.00351109, -0.15076144])"
      ]
     },
     "execution_count": 213,
     "metadata": {},
     "output_type": "execute_result"
    }
   ],
   "source": [
    "Q[0]"
   ]
  },
  {
   "cell_type": "code",
   "execution_count": 214,
   "metadata": {},
   "outputs": [
    {
     "data": {
      "text/plain": [
       "array([ 0.08301367, -0.08099055,  0.05417645, -0.24635557, -0.26454659,\n",
       "       -0.1352867 , -0.16375395, -0.12374382,  0.11043406,  0.03227207,\n",
       "        0.1535964 , -0.16851492, -0.40910695, -0.23341929,  0.08551288,\n",
       "        0.44590302, -0.09681494, -0.12610182, -0.37475814, -0.05970191,\n",
       "        0.        ,  0.        ,  0.        ,  0.        ,  0.        ])"
      ]
     },
     "execution_count": 214,
     "metadata": {},
     "output_type": "execute_result"
    }
   ],
   "source": [
    "q[0]"
   ]
  },
  {
   "cell_type": "code",
   "execution_count": 215,
   "metadata": {},
   "outputs": [
    {
     "data": {
      "text/plain": [
       "array([-4.82977858,  4.52548469,  4.78947907,  5.16125039, -4.11505287,\n",
       "       -4.62960782,  5.28758949,  4.53628225,  3.98754118,  3.46978183,\n",
       "       -3.40547307, -2.21994822, -3.51658284,  2.66773505, -3.81766835,\n",
       "       -1.82812988,  1.95387753,  3.3931844 , -3.09548129, -2.66993789])"
      ]
     },
     "execution_count": 215,
     "metadata": {},
     "output_type": "execute_result"
    }
   ],
   "source": [
    "np.diag(R)"
   ]
  },
  {
   "cell_type": "code",
   "execution_count": 216,
   "metadata": {},
   "outputs": [
    {
     "data": {
      "text/plain": [
       "array([4.82977858, 4.75176127, 5.20245529, 5.36199236, 4.18495192,\n",
       "       4.96312434, 6.07714817, 5.14361699, 4.55232853, 4.96081099,\n",
       "       4.39911622, 3.22974976, 4.69056003, 4.32033162, 6.03378684,\n",
       "       4.19195758, 4.0925029 , 7.22768385, 5.14615567, 5.76726339])"
      ]
     },
     "execution_count": 216,
     "metadata": {},
     "output_type": "execute_result"
    }
   ],
   "source": [
    "np.diag(r)"
   ]
  },
  {
   "cell_type": "markdown",
   "metadata": {},
   "source": [
    "Bringing in the matlab:\n",
    "\n",
    "Capital Q,Rmat is matlab implementation.  \n",
    "Lower q,rmat is qrfactor implementation. "
   ]
  },
  {
   "cell_type": "code",
   "execution_count": 217,
   "metadata": {},
   "outputs": [],
   "source": [
    "Qmat = np.array(pd.read_csv('Qmat.txt', header=None))\n",
    "Rmat = np.array(pd.read_csv('Rmat.txt', header=None))\n",
    "qmat = np.array(pd.read_csv('qfactor.txt', header=None))\n",
    "rmat = np.array(pd.read_csv('rfactor.txt', header=None))"
   ]
  },
  {
   "cell_type": "code",
   "execution_count": 218,
   "metadata": {},
   "outputs": [
    {
     "data": {
      "text/plain": [
       "<matplotlib.image.AxesImage at 0x1e1ea8f5588>"
      ]
     },
     "execution_count": 218,
     "metadata": {},
     "output_type": "execute_result"
    },
    {
     "data": {
      "image/png": "[encoded data removed]",
      "text/plain": [
       "<Figure size 720x1440 with 8 Axes>"
      ]
     },
     "metadata": {
      "needs_background": "light"
     },
     "output_type": "display_data"
    }
   ],
   "source": [
    "plt.figure(figsize=[10,20])\n",
    "plt.subplot(4,2,1)\n",
    "plt.title('My q')\n",
    "plt.imshow(q)\n",
    "plt.subplot(4,2,2)\n",
    "plt.title('My r')\n",
    "plt.imshow(r)\n",
    "plt.subplot(4,2,3)\n",
    "plt.title('Scipy Q')\n",
    "plt.imshow(Q)\n",
    "plt.subplot(4,2,4)\n",
    "plt.title('Scipy R')\n",
    "plt.imshow(R)\n",
    "plt.subplot(4,2,5)\n",
    "plt.title('Matlab Q')\n",
    "plt.imshow(Qmat)\n",
    "plt.subplot(4,2,6)\n",
    "plt.title('Matlab R')\n",
    "plt.imshow(Rmat)\n",
    "plt.subplot(4,2,7)\n",
    "plt.title('qrfactor.m Q')\n",
    "plt.imshow(qmat)\n",
    "plt.subplot(4,2,8)\n",
    "plt.title('qrfactor.m R')\n",
    "plt.imshow(rmat)"
   ]
  },
  {
   "cell_type": "markdown",
   "metadata": {},
   "source": [
    "Creating a matrix with poor conditioning:"
   ]
  },
  {
   "cell_type": "code",
   "execution_count": 181,
   "metadata": {},
   "outputs": [],
   "source": [
    "from sklearn.datasets import make_classification\n",
    "A = make_classification(n_redundant=3, n_samples=25, n_features=20)[0]"
   ]
  },
  {
   "cell_type": "code",
   "execution_count": 182,
   "metadata": {},
   "outputs": [
    {
     "data": {
      "text/plain": [
       "3.939033234916002e+16"
      ]
     },
     "execution_count": 182,
     "metadata": {},
     "output_type": "execute_result"
    }
   ],
   "source": [
    "np.linalg.cond(A)"
   ]
  },
  {
   "cell_type": "code",
   "execution_count": 183,
   "metadata": {},
   "outputs": [
    {
     "data": {
      "text/plain": [
       "(array([[-1.03861742e-01, -1.25671878e-01, -8.64404726e-02,\n",
       "         -1.01159619e-01, -7.99879578e-02, -7.51280302e-02,\n",
       "         -1.21759420e-01,  1.39177622e-01,  8.22819569e-02,\n",
       "         -1.29324113e-01,  3.45042445e-01,  8.41964091e-02,\n",
       "          3.71101849e-01, -2.87995427e-01, -1.99294126e-02,\n",
       "          1.78544037e-01,  2.52379033e-02,  1.24170663e-01,\n",
       "         -4.54926133e-02, -6.59643820e-02,  0.00000000e+00,\n",
       "          0.00000000e+00,  0.00000000e+00,  0.00000000e+00,\n",
       "          0.00000000e+00],\n",
       "        [-5.36042496e-02,  1.32434514e-01,  3.93366253e-01,\n",
       "         -1.12035684e-01,  8.04126937e-02,  3.49888611e-03,\n",
       "          3.43461537e-01,  1.49144204e-01,  5.37071740e-01,\n",
       "          1.36157504e-01,  8.98706775e-02, -4.23933873e-01,\n",
       "          1.57368113e-01,  8.33226693e-02,  6.79395503e-02,\n",
       "          4.19182741e-01, -2.93547452e-01, -4.68159300e-01,\n",
       "         -2.75887655e-01, -8.43735242e-02,  0.00000000e+00,\n",
       "          0.00000000e+00,  0.00000000e+00,  0.00000000e+00,\n",
       "          0.00000000e+00],\n",
       "        [-1.09284300e-01,  1.67217759e-01, -1.99759972e-01,\n",
       "          4.50289014e-02,  1.09932867e-01,  8.36034407e-02,\n",
       "         -1.10190733e-01, -2.61628233e-02,  4.42457450e-02,\n",
       "          2.29241732e-01,  5.91618545e-04,  2.14680299e-01,\n",
       "         -1.28050118e-02, -5.58889386e-02,  1.51741010e-01,\n",
       "          3.06665922e-01, -3.78998292e-01, -1.30098575e-01,\n",
       "         -3.17553733e-01, -1.86392765e-01,  0.00000000e+00,\n",
       "          0.00000000e+00,  0.00000000e+00,  0.00000000e+00,\n",
       "          0.00000000e+00],\n",
       "        [ 1.82247164e-01, -3.18950172e-01,  1.49748504e-01,\n",
       "         -2.54811730e-01,  2.84137400e-01,  3.79334892e-01,\n",
       "          1.88662558e-01,  6.66797687e-02,  9.29942728e-02,\n",
       "         -1.33037917e-04, -6.81845455e-02,  2.22484695e-02,\n",
       "          2.11944063e-01, -1.91783469e-01,  2.91005686e-01,\n",
       "          3.15566337e-01,  7.75581170e-02, -6.23341031e-02,\n",
       "         -3.44392530e-01, -2.10255977e-01,  0.00000000e+00,\n",
       "          0.00000000e+00,  0.00000000e+00,  0.00000000e+00,\n",
       "          0.00000000e+00],\n",
       "        [-5.82121597e-02, -1.76480003e-01,  6.47161126e-02,\n",
       "         -2.29846861e-01,  3.14959720e-01,  8.69765713e-02,\n",
       "          1.58742442e-01, -2.26973143e-01,  3.30027451e-01,\n",
       "         -1.80711365e-01, -3.34040335e-01,  6.75489285e-02,\n",
       "          5.29711065e-02,  1.51111589e-02,  2.74937236e-01,\n",
       "         -3.74485464e-02, -1.28904278e-01, -6.22188775e-02,\n",
       "         -2.42481549e-01, -3.69632854e-01,  0.00000000e+00,\n",
       "          0.00000000e+00,  0.00000000e+00,  0.00000000e+00,\n",
       "          0.00000000e+00],\n",
       "        [-6.84670368e-01, -2.00038956e-01, -2.73687808e-01,\n",
       "          2.53267646e-01, -1.07434340e-01,  4.99538524e-02,\n",
       "         -2.37220437e-01,  9.94662653e-02, -4.37349355e-02,\n",
       "          1.17527342e-01, -1.89943393e-01,  1.66399922e-01,\n",
       "         -1.66188098e-01, -4.97010717e-02, -8.51686284e-02,\n",
       "          1.90407857e-01,  1.95739401e-01, -1.83600595e-01,\n",
       "          1.27716317e-01, -1.27129544e-01,  0.00000000e+00,\n",
       "          0.00000000e+00,  0.00000000e+00,  0.00000000e+00,\n",
       "          0.00000000e+00],\n",
       "        [-4.47565004e-02, -1.31849697e-02, -2.68141835e-01,\n",
       "          8.58203828e-02, -1.78888865e-01, -1.97585818e-01,\n",
       "         -2.78020223e-01,  1.01925486e-01,  1.49664731e-01,\n",
       "         -1.49379203e-02, -2.35180899e-01,  1.33777223e-01,\n",
       "          3.90554777e-01,  7.99511713e-02, -1.47901500e-01,\n",
       "          5.91353610e-02,  1.17696073e-01, -1.02059675e-01,\n",
       "         -7.91541925e-02, -3.08210685e-02,  0.00000000e+00,\n",
       "          0.00000000e+00,  0.00000000e+00,  0.00000000e+00,\n",
       "          0.00000000e+00],\n",
       "        [ 5.33902735e-02, -2.67570649e-02, -5.41960268e-02,\n",
       "         -9.95716437e-03, -1.19193550e-01,  2.09377201e-01,\n",
       "         -1.18784738e-01, -1.46446311e-01, -6.69231872e-02,\n",
       "          1.51354351e-01,  1.66566401e-01,  2.20178859e-02,\n",
       "          7.78930224e-02, -7.87655084e-02, -9.54610221e-02,\n",
       "         -1.38481126e-02,  3.81172111e-02, -4.53185032e-02,\n",
       "          9.81231582e-02,  2.83409668e-01,  0.00000000e+00,\n",
       "          0.00000000e+00,  0.00000000e+00,  0.00000000e+00,\n",
       "          0.00000000e+00],\n",
       "        [-1.92307130e-01, -1.49941303e-01,  2.28934824e-01,\n",
       "          2.26960160e-01, -8.17518330e-02,  3.33825406e-01,\n",
       "          1.64624183e-01,  2.33991411e-02,  8.83998339e-02,\n",
       "          8.48475513e-03,  1.02578903e-01, -3.03984653e-01,\n",
       "         -3.05139503e-01,  4.69220994e-02, -1.32244226e-01,\n",
       "         -6.67388136e-02, -4.02954618e-01,  2.71143639e-01,\n",
       "          4.11210145e-02, -1.25695720e-02,  0.00000000e+00,\n",
       "          0.00000000e+00,  0.00000000e+00,  0.00000000e+00,\n",
       "          0.00000000e+00],\n",
       "        [ 2.88620417e-02, -2.82167023e-01, -2.17062717e-01,\n",
       "         -6.80132602e-02, -2.56667985e-01, -2.42611349e-01,\n",
       "         -2.96566053e-01,  1.40172710e-01, -2.79276224e-01,\n",
       "          1.77189942e-01, -3.40776625e-01,  1.25507104e-01,\n",
       "         -3.92172737e-02,  4.42989381e-01, -2.62044560e-01,\n",
       "         -8.97470341e-02, -2.98441110e-01,  1.32631059e-01,\n",
       "         -5.24615763e-02, -5.98930382e-02,  0.00000000e+00,\n",
       "          0.00000000e+00,  0.00000000e+00,  0.00000000e+00,\n",
       "          0.00000000e+00],\n",
       "        [-1.04936155e-01,  5.38447369e-02, -8.84821187e-02,\n",
       "         -3.36944524e-01,  1.85649277e-01, -2.60427400e-01,\n",
       "         -2.31525379e-02, -1.03767550e-01, -1.30880851e-01,\n",
       "          1.66995444e-01, -7.35929810e-02,  2.27262295e-01,\n",
       "          7.55229577e-02, -3.23582632e-01,  2.54772931e-01,\n",
       "         -1.90472525e-01, -5.03344185e-02,  1.42510362e-01,\n",
       "         -3.34682288e-01, -1.31825407e-01,  0.00000000e+00,\n",
       "          0.00000000e+00,  0.00000000e+00,  0.00000000e+00,\n",
       "          0.00000000e+00],\n",
       "        [-2.73088842e-01, -3.31563186e-01,  2.02612414e-01,\n",
       "         -1.00941113e-01, -2.25019840e-01, -1.49363221e-01,\n",
       "          5.23448581e-02, -7.35373946e-04, -2.57647078e-01,\n",
       "          1.70906766e-01, -2.95721363e-01, -2.69699173e-01,\n",
       "          1.38853309e-01,  4.27741476e-01, -2.65568244e-01,\n",
       "          1.43450129e-01,  5.22351369e-02,  2.18219381e-01,\n",
       "          2.41588188e-01,  3.27433419e-01,  0.00000000e+00,\n",
       "          0.00000000e+00,  0.00000000e+00,  0.00000000e+00,\n",
       "          0.00000000e+00],\n",
       "        [-7.54521662e-02, -5.73263121e-01,  3.59981435e-01,\n",
       "         -1.21143838e-01,  2.85953325e-01, -9.84903197e-02,\n",
       "          4.20462216e-01,  1.32215661e-02,  6.65472417e-02,\n",
       "          7.17272137e-02, -1.92033971e-01, -2.44112010e-01,\n",
       "         -1.55134355e-01,  8.42027825e-02,  2.47026255e-01,\n",
       "         -1.67931132e-01,  1.23293891e-01,  9.10502183e-02,\n",
       "         -2.62187994e-01,  3.86761502e-02,  0.00000000e+00,\n",
       "          0.00000000e+00,  0.00000000e+00,  0.00000000e+00,\n",
       "          0.00000000e+00],\n",
       "        [-1.66353502e-01,  1.58823975e-01, -9.13714735e-02,\n",
       "          4.49653392e-02, -1.91956912e-01, -9.59611196e-02,\n",
       "         -1.52894722e-01, -3.91309746e-01, -1.91289319e-01,\n",
       "          1.06479956e-01,  5.51109584e-02,  2.07419137e-02,\n",
       "          2.87533734e-01,  1.51777626e-01, -1.84473236e-01,\n",
       "          1.24549486e-01,  2.06281435e-01, -1.23727680e-01,\n",
       "          1.80241024e-01, -1.35667850e-01,  0.00000000e+00,\n",
       "          0.00000000e+00,  0.00000000e+00,  0.00000000e+00,\n",
       "          0.00000000e+00],\n",
       "        [ 7.68159352e-02, -2.14693309e-01,  1.90459292e-01,\n",
       "         -3.17703170e-02, -1.85276008e-01, -2.95300700e-01,\n",
       "          8.38835311e-02, -1.91190889e-01, -1.48726756e-01,\n",
       "          2.11933419e-01,  1.35398621e-01, -2.62172404e-01,\n",
       "         -2.40249964e-01,  2.29923282e-01, -2.05132103e-01,\n",
       "          1.57580779e-01,  5.70010440e-02, -8.67162097e-02,\n",
       "         -3.09610428e-01, -1.85886512e-01,  0.00000000e+00,\n",
       "          0.00000000e+00,  0.00000000e+00,  0.00000000e+00,\n",
       "          0.00000000e+00],\n",
       "        [-1.80466097e-01,  2.13469662e-02, -1.05561467e-01,\n",
       "          3.20417887e-01, -1.69958024e-01, -1.81159506e-01,\n",
       "         -1.00337472e-01,  1.34335010e-01,  1.50546214e-01,\n",
       "         -1.67227013e-03, -1.88556304e-01, -7.20930477e-02,\n",
       "         -5.04720146e-02, -6.96683513e-03, -1.66284106e-01,\n",
       "          2.66417592e-02,  9.14494621e-02, -9.45486059e-02,\n",
       "          1.45345427e-01, -2.20924073e-01,  0.00000000e+00,\n",
       "          0.00000000e+00,  0.00000000e+00,  0.00000000e+00,\n",
       "          0.00000000e+00],\n",
       "        [-2.33700851e-02,  1.35638040e-01,  4.28909743e-01,\n",
       "         -2.72733450e-01,  1.88497896e-01, -1.74425319e-02,\n",
       "          3.98476162e-01, -5.11079569e-01, -1.54391074e-01,\n",
       "          3.35755239e-01, -1.82243048e-02, -2.97350289e-01,\n",
       "         -2.45906368e-03, -1.00187035e-01,  1.81274583e-01,\n",
       "          1.39170712e-01,  2.64576253e-02, -3.56245011e-01,\n",
       "         -1.56155533e-01, -3.70138436e-01,  0.00000000e+00,\n",
       "          0.00000000e+00,  0.00000000e+00,  0.00000000e+00,\n",
       "          0.00000000e+00],\n",
       "        [-1.76840690e-01,  3.23049546e-02, -1.07145786e-01,\n",
       "          8.77796610e-02,  2.52325008e-01,  2.45005547e-01,\n",
       "          3.03356766e-02,  4.15815996e-01, -6.22997858e-02,\n",
       "         -4.00288441e-01,  4.05550046e-01,  2.64651680e-01,\n",
       "          3.53780933e-01, -2.72141225e-01,  2.85396719e-01,\n",
       "          3.48931238e-01,  3.02666035e-01, -2.07664982e-01,\n",
       "          9.86247342e-02,  3.84124830e-01,  0.00000000e+00,\n",
       "          0.00000000e+00,  0.00000000e+00,  0.00000000e+00,\n",
       "          0.00000000e+00],\n",
       "        [ 3.00014005e-02, -1.40678609e-02,  2.33746440e-01,\n",
       "         -8.38226669e-02,  2.43101535e-01,  9.45790676e-02,\n",
       "          2.88279205e-01,  9.23930902e-02, -2.93519947e-01,\n",
       "          1.37372366e-01,  1.97021993e-01, -6.75798041e-02,\n",
       "          1.90043789e-01,  1.23936713e-01,  2.44440574e-01,\n",
       "          2.28329038e-01, -1.57150943e-03, -2.55697061e-01,\n",
       "         -3.42246490e-01, -1.58077577e-01,  0.00000000e+00,\n",
       "          0.00000000e+00,  0.00000000e+00,  0.00000000e+00,\n",
       "          0.00000000e+00],\n",
       "        [-3.55203064e-02,  1.38910251e-02,  8.06592150e-02,\n",
       "          2.96886590e-02, -2.39323832e-01,  1.63783215e-01,\n",
       "         -5.51484268e-02,  3.81604498e-01,  3.18397413e-01,\n",
       "         -1.65773985e-01,  1.44686966e-01, -2.07492214e-01,\n",
       "          1.51351848e-02, -2.66027166e-01, -2.28498240e-01,\n",
       "         -3.72133564e-01, -9.32826849e-02,  3.02365515e-01,\n",
       "          5.16257987e-02, -2.34002579e-01,  0.00000000e+00,\n",
       "          0.00000000e+00,  0.00000000e+00,  0.00000000e+00,\n",
       "          0.00000000e+00],\n",
       "        [ 1.18826994e-01,  1.03571072e-01, -9.51600470e-02,\n",
       "         -2.11537475e-01,  1.82363504e-01,  8.81037235e-02,\n",
       "         -3.37360491e-02, -4.59444071e-03,  1.84285686e-01,\n",
       "         -3.94913832e-01, -2.20129814e-02,  2.21540696e-01,\n",
       "          2.95482215e-01,  5.23154296e-02,  1.61517054e-01,\n",
       "         -8.19288011e-02, -2.45697916e-01, -2.09760257e-01,\n",
       "          2.56791176e-02,  1.45048440e-02,  0.00000000e+00,\n",
       "          0.00000000e+00,  0.00000000e+00,  0.00000000e+00,\n",
       "          0.00000000e+00],\n",
       "        [-4.89639221e-02,  6.83324042e-03, -3.62247022e-02,\n",
       "          3.25070372e-01,  2.81393578e-01,  1.33149836e-01,\n",
       "          1.51818820e-01,  8.24887447e-02, -1.74689771e-02,\n",
       "         -9.19037938e-02,  1.58079365e-01,  1.08698268e-01,\n",
       "          2.58947008e-02, -2.54103773e-01,  3.00816539e-01,\n",
       "          1.49421195e-01, -8.18523999e-02,  9.26619302e-02,\n",
       "         -1.21874618e-01,  1.56636501e-01,  0.00000000e+00,\n",
       "          0.00000000e+00,  0.00000000e+00,  0.00000000e+00,\n",
       "          0.00000000e+00],\n",
       "        [ 4.24618808e-01, -1.47581483e-01,  1.20324311e-01,\n",
       "          2.35273041e-02, -2.14155823e-01, -4.55118541e-01,\n",
       "          3.32407981e-02,  1.49990864e-03,  8.66303441e-02,\n",
       "          3.25445500e-01, -1.40913696e-01, -2.80616164e-01,\n",
       "         -2.19872190e-02,  2.23282513e-02, -1.87565048e-01,\n",
       "         -1.80202648e-03,  1.93172850e-01, -2.30646932e-01,\n",
       "         -4.83443612e-02, -1.34377282e-01,  0.00000000e+00,\n",
       "          0.00000000e+00,  0.00000000e+00,  0.00000000e+00,\n",
       "          0.00000000e+00],\n",
       "        [-8.67737703e-02,  2.15134632e-01, -3.13330049e-02,\n",
       "          3.81042418e-01, -3.18958400e-02,  2.17994120e-02,\n",
       "          2.30326741e-02,  1.38595586e-01, -1.89833721e-01,\n",
       "         -3.76429419e-02, -2.15405965e-01, -3.86916484e-02,\n",
       "         -9.93987461e-02, -2.70987313e-02, -4.63486335e-02,\n",
       "          7.97578140e-02,  4.32347881e-02,  2.38148400e-01,\n",
       "          1.63432058e-01,  4.28848671e-02,  0.00000000e+00,\n",
       "          0.00000000e+00,  0.00000000e+00,  0.00000000e+00,\n",
       "          0.00000000e+00],\n",
       "        [ 1.74923745e-01, -2.25651310e-01,  7.31838674e-02,\n",
       "          3.15318032e-01,  1.51600708e-01, -1.48178253e-01,\n",
       "          1.98306129e-01,  8.27458445e-02, -9.10308604e-02,\n",
       "         -3.18697735e-01, -8.88814079e-02, -4.75656188e-02,\n",
       "         -2.38560837e-01,  2.16793929e-01,  8.30084656e-02,\n",
       "         -2.27313856e-01,  3.99965248e-01, -7.81730263e-02,\n",
       "          1.40942143e-01,  1.87024587e-01,  0.00000000e+00,\n",
       "          0.00000000e+00,  0.00000000e+00,  0.00000000e+00,\n",
       "          0.00000000e+00]]),\n",
       " array([[ 6.44964551e+00,  6.49668984e-02,  2.40993085e-02,\n",
       "          4.79416782e-02,  2.97820546e-02,  2.48610255e-02,\n",
       "          8.00128087e-02, -7.12898857e-02, -5.93519834e-02,\n",
       "          6.39146828e-02, -1.90186893e-01, -5.66956278e-02,\n",
       "         -1.71080099e-01,  1.63478279e-01,  3.83556060e-02,\n",
       "         -1.01195220e-01,  3.63776541e-02, -7.97478078e-02,\n",
       "          3.10252665e-02,  8.19271966e-02],\n",
       "        [ 0.00000000e+00,  4.92366079e+00,  1.42350079e-01,\n",
       "         -4.99704144e-02,  6.52252961e-02,  1.71899096e-02,\n",
       "          3.96378532e-01,  5.01002049e-02,  3.63475952e-01,\n",
       "          1.58998076e-01, -4.50977783e-02, -4.08268238e-01,\n",
       "         -1.03436614e-02,  1.35069027e-01,  8.61345278e-02,\n",
       "          3.16020918e-01, -2.01421762e-01, -3.13993929e-01,\n",
       "         -4.86971027e-02,  1.51903966e-01],\n",
       "        [ 0.00000000e+00,  0.00000000e+00,  2.44839228e+00,\n",
       "         -8.76367374e-02,  8.90265070e-03, -2.74307121e-02,\n",
       "          7.02073736e-01,  7.75950832e-02,  3.97366374e-01,\n",
       "         -4.34571708e-02, -1.03282284e-01, -8.88164770e-01,\n",
       "         -3.38135104e-03,  2.36721296e-01,  1.80047243e-02,\n",
       "          1.20987377e-01,  1.54288897e-01, -3.97107327e-01,\n",
       "          1.20175161e-01,  1.71139278e-01],\n",
       "        [ 0.00000000e+00,  0.00000000e+00,  0.00000000e+00,\n",
       "          4.65074155e+00, -4.18335597e-01, -4.03722364e-01,\n",
       "         -1.40762300e+00, -1.08746644e-01, -7.64217130e-01,\n",
       "         -1.99957932e-01,  4.39479568e-01,  1.16086704e+00,\n",
       "         -3.30167699e-02, -1.15399823e-01, -5.41500341e-01,\n",
       "         -8.02366083e-01, -1.28480363e-02,  7.40838466e-01,\n",
       "          5.24151245e-01, -1.14278142e-01],\n",
       "        [ 0.00000000e+00,  0.00000000e+00,  0.00000000e+00,\n",
       "          0.00000000e+00,  3.96317195e+00, -2.04709172e-01,\n",
       "         -3.86226258e-01, -5.36385444e-01,  7.30172826e-02,\n",
       "         -3.25100321e-01, -7.60492531e-01,  6.89224493e-01,\n",
       "         -2.98389638e-01,  2.05946796e-01,  1.53675011e-01,\n",
       "         -7.30846034e-01, -2.28677566e-01,  1.94701255e-01,\n",
       "         -2.40893834e-02, -4.90971184e-01],\n",
       "        [ 0.00000000e+00,  0.00000000e+00,  0.00000000e+00,\n",
       "          0.00000000e+00,  0.00000000e+00,  3.91611401e+00,\n",
       "          4.67891341e-01, -3.56805864e-01, -1.20989671e+00,\n",
       "          9.02501738e-04, -1.31551245e+00, -3.55426179e-01,\n",
       "         -1.06998554e+00,  7.32859687e-01,  2.04816167e-01,\n",
       "         -1.10879667e+00,  1.47915132e+00, -1.63937308e-01,\n",
       "          2.32943929e-01,  2.71048959e-01],\n",
       "        [ 0.00000000e+00,  0.00000000e+00,  0.00000000e+00,\n",
       "          0.00000000e+00,  0.00000000e+00,  0.00000000e+00,\n",
       "          6.48576415e+00, -1.45298124e-02, -6.88627848e-01,\n",
       "         -3.63450288e-01,  9.67053887e-01, -1.12572122e+00,\n",
       "         -2.56908896e-01,  9.48379462e-03,  5.86556138e-02,\n",
       "         -7.28392214e-01,  2.11255105e-01,  5.85796584e-01,\n",
       "          2.95965044e-01,  5.31181485e-01],\n",
       "        [ 0.00000000e+00,  0.00000000e+00,  0.00000000e+00,\n",
       "          0.00000000e+00,  0.00000000e+00,  0.00000000e+00,\n",
       "          0.00000000e+00,  4.37937502e+00, -4.12431610e-01,\n",
       "         -2.71356438e-02,  1.77537358e-01,  2.22213994e-03,\n",
       "         -3.82260900e-01, -1.10652686e-01, -1.73207369e-01,\n",
       "          1.65354141e-01,  4.14400159e-01, -2.42340721e-02,\n",
       "          4.91896451e-01, -1.51813351e-01],\n",
       "        [ 0.00000000e+00,  0.00000000e+00,  0.00000000e+00,\n",
       "          0.00000000e+00,  0.00000000e+00,  0.00000000e+00,\n",
       "          0.00000000e+00,  0.00000000e+00,  5.54805030e+00,\n",
       "          5.89689210e-01, -7.42262327e-01,  9.04540562e-01,\n",
       "         -4.06348658e-01, -1.02772238e-01, -6.12061536e-02,\n",
       "          5.67935180e-01,  4.26589699e-01, -2.65265602e-01,\n",
       "         -2.59981447e-02, -1.35438873e-01],\n",
       "        [ 0.00000000e+00,  0.00000000e+00,  0.00000000e+00,\n",
       "          0.00000000e+00,  0.00000000e+00,  0.00000000e+00,\n",
       "          0.00000000e+00,  0.00000000e+00,  0.00000000e+00,\n",
       "          5.62679682e+00,  6.83794818e-01,  4.73438615e-01,\n",
       "         -2.75303864e-01,  4.42566839e-01, -5.32258394e-01,\n",
       "         -1.69893447e+00,  1.16718789e+00,  7.69413473e-01,\n",
       "          7.68404109e-01,  6.79739247e-01],\n",
       "        [ 0.00000000e+00,  0.00000000e+00,  0.00000000e+00,\n",
       "          0.00000000e+00,  0.00000000e+00,  0.00000000e+00,\n",
       "          0.00000000e+00,  0.00000000e+00,  0.00000000e+00,\n",
       "          0.00000000e+00,  5.57654917e+00, -2.72899765e-01,\n",
       "         -1.14117613e-01,  1.25857852e+00, -1.73031253e-01,\n",
       "         -9.64689089e-01, -3.43622918e-01,  3.42480085e-02,\n",
       "          1.82657708e-01,  8.32233423e-02],\n",
       "        [ 0.00000000e+00,  0.00000000e+00,  0.00000000e+00,\n",
       "          0.00000000e+00,  0.00000000e+00,  0.00000000e+00,\n",
       "          0.00000000e+00,  0.00000000e+00,  0.00000000e+00,\n",
       "          0.00000000e+00,  0.00000000e+00,  5.95454750e+00,\n",
       "         -7.60707716e-01,  9.50389845e-01, -4.59605909e-01,\n",
       "         -1.06679520e+00,  7.07049636e-01, -3.78538649e-01,\n",
       "          7.58777461e-01,  3.00125847e-01],\n",
       "        [ 0.00000000e+00,  0.00000000e+00,  0.00000000e+00,\n",
       "          0.00000000e+00,  0.00000000e+00,  0.00000000e+00,\n",
       "          0.00000000e+00,  0.00000000e+00,  0.00000000e+00,\n",
       "          0.00000000e+00,  0.00000000e+00,  0.00000000e+00,\n",
       "          4.42847029e+00, -1.03273125e-02, -2.23067583e-01,\n",
       "         -1.05472617e+00, -2.85898069e-01,  6.10244716e-01,\n",
       "         -7.67977254e-02, -1.02344989e+00],\n",
       "        [ 0.00000000e+00,  0.00000000e+00,  0.00000000e+00,\n",
       "          0.00000000e+00,  0.00000000e+00,  0.00000000e+00,\n",
       "          0.00000000e+00,  0.00000000e+00,  0.00000000e+00,\n",
       "          0.00000000e+00,  0.00000000e+00,  0.00000000e+00,\n",
       "          0.00000000e+00,  6.55541441e+00,  4.58222433e-01,\n",
       "         -2.53013253e-01,  4.77439422e-01, -3.08058679e-01,\n",
       "         -8.24702407e-01, -2.11261120e-01],\n",
       "        [ 0.00000000e+00,  0.00000000e+00,  0.00000000e+00,\n",
       "          0.00000000e+00,  0.00000000e+00,  0.00000000e+00,\n",
       "          0.00000000e+00,  0.00000000e+00,  0.00000000e+00,\n",
       "          0.00000000e+00,  0.00000000e+00,  0.00000000e+00,\n",
       "          0.00000000e+00,  0.00000000e+00,  4.98914304e+00,\n",
       "         -6.68322819e-01, -3.26780157e-01,  4.23371625e-01,\n",
       "          1.16618943e-01, -5.60250437e-01],\n",
       "        [ 0.00000000e+00,  0.00000000e+00,  0.00000000e+00,\n",
       "          0.00000000e+00,  0.00000000e+00,  0.00000000e+00,\n",
       "          0.00000000e+00,  0.00000000e+00,  0.00000000e+00,\n",
       "          0.00000000e+00,  0.00000000e+00,  0.00000000e+00,\n",
       "          0.00000000e+00,  0.00000000e+00,  0.00000000e+00,\n",
       "          6.38956710e+00, -2.13275980e-01,  1.18855326e-01,\n",
       "          6.41598173e-01,  5.78674885e-01],\n",
       "        [ 0.00000000e+00,  0.00000000e+00,  0.00000000e+00,\n",
       "          0.00000000e+00,  0.00000000e+00,  0.00000000e+00,\n",
       "          0.00000000e+00,  0.00000000e+00,  0.00000000e+00,\n",
       "          0.00000000e+00,  0.00000000e+00,  0.00000000e+00,\n",
       "          0.00000000e+00,  0.00000000e+00,  0.00000000e+00,\n",
       "          0.00000000e+00,  5.99001926e+00, -9.49317744e-01,\n",
       "         -1.68837768e+00, -1.43612655e+00],\n",
       "        [ 0.00000000e+00,  0.00000000e+00,  0.00000000e+00,\n",
       "          0.00000000e+00,  0.00000000e+00,  0.00000000e+00,\n",
       "          0.00000000e+00,  0.00000000e+00,  0.00000000e+00,\n",
       "          0.00000000e+00,  0.00000000e+00,  0.00000000e+00,\n",
       "          0.00000000e+00,  0.00000000e+00,  0.00000000e+00,\n",
       "          0.00000000e+00,  0.00000000e+00,  5.44440079e+00,\n",
       "         -1.85895196e+00, -7.03668971e-01],\n",
       "        [ 0.00000000e+00,  0.00000000e+00,  0.00000000e+00,\n",
       "          0.00000000e+00,  0.00000000e+00,  0.00000000e+00,\n",
       "          0.00000000e+00,  0.00000000e+00,  0.00000000e+00,\n",
       "          0.00000000e+00,  0.00000000e+00,  0.00000000e+00,\n",
       "          0.00000000e+00,  0.00000000e+00,  0.00000000e+00,\n",
       "          0.00000000e+00,  0.00000000e+00,  0.00000000e+00,\n",
       "          7.21555846e+00, -1.55906667e+00],\n",
       "        [ 0.00000000e+00,  0.00000000e+00,  0.00000000e+00,\n",
       "          0.00000000e+00,  0.00000000e+00,  0.00000000e+00,\n",
       "          0.00000000e+00,  0.00000000e+00,  0.00000000e+00,\n",
       "          0.00000000e+00,  0.00000000e+00,  0.00000000e+00,\n",
       "          0.00000000e+00,  0.00000000e+00,  0.00000000e+00,\n",
       "          0.00000000e+00,  0.00000000e+00,  0.00000000e+00,\n",
       "          0.00000000e+00,  5.89475562e+00],\n",
       "        [ 0.00000000e+00,  0.00000000e+00,  0.00000000e+00,\n",
       "          0.00000000e+00,  0.00000000e+00,  0.00000000e+00,\n",
       "          0.00000000e+00,  0.00000000e+00,  0.00000000e+00,\n",
       "          0.00000000e+00,  0.00000000e+00,  0.00000000e+00,\n",
       "          0.00000000e+00,  0.00000000e+00,  0.00000000e+00,\n",
       "          0.00000000e+00,  0.00000000e+00,  0.00000000e+00,\n",
       "          0.00000000e+00,  0.00000000e+00],\n",
       "        [ 0.00000000e+00,  0.00000000e+00,  0.00000000e+00,\n",
       "          0.00000000e+00,  0.00000000e+00,  0.00000000e+00,\n",
       "          0.00000000e+00,  0.00000000e+00,  0.00000000e+00,\n",
       "          0.00000000e+00,  0.00000000e+00,  0.00000000e+00,\n",
       "          0.00000000e+00,  0.00000000e+00,  0.00000000e+00,\n",
       "          0.00000000e+00,  0.00000000e+00,  0.00000000e+00,\n",
       "          0.00000000e+00,  0.00000000e+00],\n",
       "        [ 0.00000000e+00,  0.00000000e+00,  0.00000000e+00,\n",
       "          0.00000000e+00,  0.00000000e+00,  0.00000000e+00,\n",
       "          0.00000000e+00,  0.00000000e+00,  0.00000000e+00,\n",
       "          0.00000000e+00,  0.00000000e+00,  0.00000000e+00,\n",
       "          0.00000000e+00,  0.00000000e+00,  0.00000000e+00,\n",
       "          0.00000000e+00,  0.00000000e+00,  0.00000000e+00,\n",
       "          0.00000000e+00,  0.00000000e+00],\n",
       "        [ 0.00000000e+00,  0.00000000e+00,  0.00000000e+00,\n",
       "          0.00000000e+00,  0.00000000e+00,  0.00000000e+00,\n",
       "          0.00000000e+00,  0.00000000e+00,  0.00000000e+00,\n",
       "          0.00000000e+00,  0.00000000e+00,  0.00000000e+00,\n",
       "          0.00000000e+00,  0.00000000e+00,  0.00000000e+00,\n",
       "          0.00000000e+00,  0.00000000e+00,  0.00000000e+00,\n",
       "          0.00000000e+00,  0.00000000e+00],\n",
       "        [ 0.00000000e+00,  0.00000000e+00,  0.00000000e+00,\n",
       "          0.00000000e+00,  0.00000000e+00,  0.00000000e+00,\n",
       "          0.00000000e+00,  0.00000000e+00,  0.00000000e+00,\n",
       "          0.00000000e+00,  0.00000000e+00,  0.00000000e+00,\n",
       "          0.00000000e+00,  0.00000000e+00,  0.00000000e+00,\n",
       "          0.00000000e+00,  0.00000000e+00,  0.00000000e+00,\n",
       "          0.00000000e+00,  0.00000000e+00]]))"
      ]
     },
     "execution_count": 183,
     "metadata": {},
     "output_type": "execute_result"
    }
   ],
   "source": [
    "modGramSchmidt(A)"
   ]
  },
  {
   "cell_type": "code",
   "execution_count": 184,
   "metadata": {},
   "outputs": [
    {
     "data": {
      "text/plain": [
       "(array([[-1.03861742e-01,  1.19714733e-01, -1.05333062e-01,\n",
       "         -1.48378618e-01,  8.17797679e-02,  2.48167122e-02,\n",
       "         -6.01066718e-02,  1.72740073e-01, -5.68980419e-02,\n",
       "          1.76679851e-01,  4.98217877e-01, -3.19505410e-01,\n",
       "         -2.04724882e-01,  3.13199084e-01, -4.45968438e-02,\n",
       "         -2.94479133e-01,  2.53512932e-01,  1.73948946e-01,\n",
       "          6.44227263e-03, -1.22871279e-01,  3.08991305e-01,\n",
       "         -2.49699712e-01,  1.37830886e-01, -3.24361990e-02,\n",
       "          1.57500908e-03],\n",
       "        [-5.36042496e-02, -1.35857950e-01,  4.78682762e-01,\n",
       "         -3.24804089e-02,  5.44284572e-02,  9.63190355e-02,\n",
       "          6.23525233e-02,  3.77422308e-01, -4.24670548e-01,\n",
       "         -1.23211592e-01,  7.45128976e-03, -1.98855282e-01,\n",
       "         -1.28388068e-01, -3.44699254e-01,  1.25539314e-01,\n",
       "         -1.17763206e-01, -1.19372314e-02, -3.44831943e-04,\n",
       "         -5.08697583e-02,  2.24663427e-01, -5.43327612e-03,\n",
       "          1.55266683e-02,  5.41384448e-02,  1.54137387e-02,\n",
       "          3.64971440e-01],\n",
       "        [-1.09284300e-01, -1.74015452e-01, -1.33842731e-01,\n",
       "         -4.28369166e-02, -1.66041717e-01,  1.65764085e-02,\n",
       "          5.19995358e-01, -4.47587833e-02, -1.90359125e-01,\n",
       "         -2.02409526e-01, -4.03801404e-02, -3.87994480e-02,\n",
       "          4.29546494e-02, -2.81414603e-01, -3.04895051e-01,\n",
       "          1.37424506e-01,  2.33720144e-01,  3.43601274e-01,\n",
       "          3.19810551e-02, -9.39574887e-02, -6.15419812e-02,\n",
       "         -2.99143441e-01,  5.39789239e-02, -1.28309804e-01,\n",
       "         -2.63375247e-01],\n",
       "        [ 1.82247164e-01,  3.30357189e-01,  1.33673818e-02,\n",
       "         -1.71355695e-01, -2.32048325e-01, -4.29081612e-01,\n",
       "          3.58042154e-01,  1.39331939e-03, -7.31808109e-02,\n",
       "         -3.86168368e-02, -2.25161127e-01,  1.97069221e-01,\n",
       "         -2.80968953e-01,  1.46800658e-01,  9.76113384e-02,\n",
       "         -2.53130630e-01, -1.21988685e-02, -3.91017142e-02,\n",
       "         -3.39545162e-01, -1.16973699e-01,  3.89446077e-02,\n",
       "         -2.35992543e-02, -1.01133279e-01, -1.17507696e-01,\n",
       "          1.86323253e-01],\n",
       "        [-5.82121597e-02,  1.73328678e-01,  2.93880033e-02,\n",
       "         -2.31725762e-01, -2.76339420e-01,  2.00070617e-02,\n",
       "         -5.05889519e-01, -2.36248575e-01, -3.23325895e-01,\n",
       "         -9.75751546e-02, -1.41611687e-01, -4.27834362e-02,\n",
       "         -3.99586073e-02,  2.97943390e-02, -2.93915471e-01,\n",
       "         -2.19796195e-01, -6.65147787e-02,  1.59912208e-01,\n",
       "          6.28209334e-02, -9.72136050e-02, -3.92215458e-01,\n",
       "         -5.23236418e-03,  2.30194926e-01,  1.08304124e-02,\n",
       "          4.51077401e-03],\n",
       "        [-6.84670368e-01,  1.59657433e-01, -1.78524973e-01,\n",
       "          5.71860305e-02, -1.16177576e-02,  3.16199031e-02,\n",
       "          2.27697447e-01, -5.71107813e-02, -1.32699442e-01,\n",
       "         -5.44016655e-02, -3.28651525e-02,  3.37838296e-02,\n",
       "          1.28948492e-01,  2.08698226e-02, -7.25145443e-02,\n",
       "         -7.11543037e-02, -2.93167883e-01, -3.33086589e-01,\n",
       "         -1.33491394e-02, -4.75198870e-02,  1.99527968e-01,\n",
       "          1.15891538e-01,  3.16232974e-01,  5.72783417e-02,\n",
       "          9.12169700e-02],\n",
       "        [-4.47565004e-02,  1.05454451e-02, -2.80878554e-01,\n",
       "          8.88691163e-03,  1.01536673e-01,  1.34810505e-01,\n",
       "         -1.76882634e-01,  6.39274252e-02, -1.94310511e-01,\n",
       "         -1.53514177e-01, -6.49979238e-02,  4.07537587e-02,\n",
       "         -4.91834208e-01, -1.65617327e-02,  1.78332329e-02,\n",
       "          1.37498791e-01, -6.75864527e-02, -3.30797516e-02,\n",
       "         -4.06476441e-01,  3.88819203e-01,  9.58869941e-02,\n",
       "          2.47405328e-02, -4.19557721e-02,  1.22410976e-01,\n",
       "         -4.21700666e-01],\n",
       "        [ 5.33902735e-02,  2.99808966e-02, -8.06280505e-02,\n",
       "         -1.20719959e-02,  1.12692578e-01, -3.34848012e-01,\n",
       "          2.16566544e-02, -2.64328615e-01,  2.80341626e-02,\n",
       "         -2.23154336e-01,  2.33108640e-01, -5.33081897e-02,\n",
       "         -1.61500243e-01,  8.15342297e-02, -1.81558379e-01,\n",
       "          1.93460675e-01, -2.19697588e-01, -5.44821944e-02,\n",
       "          3.27552293e-01,  4.91082369e-01, -2.02260334e-02,\n",
       "         -2.47735695e-01, -2.20375322e-02, -1.91891225e-01,\n",
       "          2.91168445e-01],\n",
       "        [-1.92307130e-01,  1.38764913e-01,  2.49350125e-01,\n",
       "          2.76169075e-01,  8.77723559e-02, -3.69883476e-01,\n",
       "         -1.08641682e-01, -1.39373384e-01, -5.45711945e-02,\n",
       "         -7.39644341e-02,  8.41727976e-02, -4.40259265e-02,\n",
       "          1.32388895e-01, -1.22933888e-02,  1.22007604e-01,\n",
       "          7.03795863e-02,  4.71629776e-01, -3.09447551e-01,\n",
       "         -1.75549528e-01,  2.77206342e-02, -2.31235595e-01,\n",
       "         -2.98933527e-01,  3.42056953e-02,  2.33328779e-01,\n",
       "         -1.62359193e-01],\n",
       "        [ 2.88620417e-02,  2.84383169e-01, -3.29605136e-01,\n",
       "         -1.08557377e-01,  2.14331257e-01,  5.21585759e-02,\n",
       "          5.67531099e-02,  1.11604939e-01,  2.46108363e-01,\n",
       "         -1.80229042e-01, -2.22097678e-01, -5.15575833e-01,\n",
       "          7.61201200e-02, -1.48588993e-01, -2.38334054e-01,\n",
       "         -3.55957049e-02,  2.26430174e-01, -6.80354767e-02,\n",
       "         -8.66908346e-02,  4.32029356e-02, -1.57248713e-01,\n",
       "          1.85808908e-01, -1.72379942e-01,  1.58040645e-01,\n",
       "          2.45291933e-01],\n",
       "        [-1.04936155e-01, -6.01832509e-02, -5.08827168e-02,\n",
       "         -4.16301289e-01, -1.34186214e-01,  3.92616435e-01,\n",
       "          4.64975817e-02,  1.10780332e-01,  1.14169988e-01,\n",
       "         -1.20641941e-01,  4.67870156e-02,  2.35593759e-01,\n",
       "          1.74117980e-01,  3.24499225e-01,  1.61019156e-01,\n",
       "          2.20457394e-01,  2.13674587e-01, -1.19159234e-01,\n",
       "         -2.12793622e-01,  1.91796810e-01, -2.47911303e-01,\n",
       "         -2.20231260e-01,  6.89142976e-02, -9.77871334e-02,\n",
       "          2.47504092e-01],\n",
       "        [-2.73088842e-01,  3.15901763e-01,  1.85090645e-01,\n",
       "         -9.17125938e-02,  3.03235754e-01,  5.51237389e-02,\n",
       "          4.74151508e-03,  6.34196170e-02,  2.63768111e-01,\n",
       "          1.52444739e-01, -2.89185781e-01,  1.41623782e-01,\n",
       "         -2.94787769e-01, -1.22678427e-01,  1.53364987e-01,\n",
       "         -1.14722919e-02,  1.91818326e-01,  1.49749787e-01,\n",
       "          3.03596262e-01,  9.27442881e-02, -1.15191855e-01,\n",
       "          1.52222815e-02,  1.76940375e-01, -3.64367449e-01,\n",
       "         -1.55752601e-01],\n",
       "        [-7.54521662e-02,  5.69787727e-01,  2.26894438e-01,\n",
       "         -8.95965147e-03, -2.21789799e-01,  1.78151853e-01,\n",
       "         -1.46714227e-02,  2.87330950e-02, -9.24470376e-02,\n",
       "         -4.72713706e-02,  3.45582899e-02,  6.31930023e-02,\n",
       "          3.53372673e-02,  2.51659978e-02, -1.85923827e-02,\n",
       "          3.87406169e-01, -4.74505128e-02,  2.16984881e-01,\n",
       "          1.76735846e-01, -1.73818467e-02,  2.63076576e-01,\n",
       "         -7.36702353e-02, -3.27410799e-01,  3.23883703e-01,\n",
       "          1.52062776e-02],\n",
       "        [-1.66353502e-01, -1.69002224e-01, -5.00120340e-03,\n",
       "         -2.49503325e-02,  1.87260855e-01,  8.48620349e-02,\n",
       "          7.44704513e-02, -4.03559737e-01,  2.05984134e-02,\n",
       "          2.51068944e-01,  1.07215805e-01,  1.02859840e-03,\n",
       "         -4.36703916e-01, -1.11452992e-01,  5.98192444e-02,\n",
       "          2.67356155e-01, -1.76834994e-02,  1.35730019e-01,\n",
       "         -1.68141141e-01, -3.32652479e-01, -1.90781709e-01,\n",
       "          6.45921461e-03, -3.75906214e-02,  2.34906967e-01,\n",
       "          3.58606493e-01],\n",
       "        [ 7.68159352e-02,  2.19643212e-01,  1.17404804e-01,\n",
       "          5.04860393e-02,  2.38841567e-01,  1.90093248e-01,\n",
       "          4.86484161e-02, -1.46279134e-01,  5.15268719e-02,\n",
       "          1.00720738e-01,  3.54605868e-01,  4.36128715e-01,\n",
       "          1.54785222e-01, -2.61941646e-01, -4.24014460e-01,\n",
       "         -2.82622041e-01,  6.25635062e-02,  2.81781900e-02,\n",
       "         -2.77731165e-01,  1.71918292e-01, -2.80901236e-03,\n",
       "          9.51860224e-02, -7.35941914e-02, -5.34341499e-02,\n",
       "          5.33997661e-02],\n",
       "        [-1.80466097e-01, -3.21217549e-02, -5.97475416e-02,\n",
       "          2.75099206e-01,  8.42103379e-02,  2.06672824e-01,\n",
       "         -1.21545841e-01,  7.25858555e-02, -2.05419446e-01,\n",
       "         -8.40865798e-02, -6.86401905e-02,  1.84921123e-02,\n",
       "         -1.00481495e-01,  1.24239021e-01, -1.04663187e-01,\n",
       "         -9.39514588e-02, -2.28989697e-02, -2.26856830e-01,\n",
       "          4.90400779e-02, -2.65247041e-01, -1.00001962e-01,\n",
       "         -2.03408702e-01, -5.96690709e-01, -4.26836232e-01,\n",
       "          5.75818860e-02],\n",
       "        [-2.33700851e-02, -1.37268323e-01,  5.10030074e-01,\n",
       "         -1.89787997e-01, -1.41365367e-02,  1.53348971e-01,\n",
       "          2.44895248e-01, -3.05123078e-01,  8.12624927e-02,\n",
       "          1.05477114e-01, -1.30165455e-01, -3.26680127e-01,\n",
       "         -7.20963534e-02,  3.41206621e-01, -2.80502017e-01,\n",
       "         -5.14702992e-02, -4.02767240e-02, -1.93586017e-01,\n",
       "         -5.68326852e-02,  1.41358530e-01,  4.50786620e-02,\n",
       "          1.31689958e-01, -1.27013408e-01,  1.01654705e-05,\n",
       "         -2.55954090e-01],\n",
       "        [-1.76840690e-01, -4.28834229e-02, -5.89570574e-02,\n",
       "          2.31309096e-02, -3.12494725e-01, -9.41045584e-02,\n",
       "          1.47650112e-01,  3.85795702e-01,  1.96531124e-01,\n",
       "          3.21822056e-01,  1.98758241e-01,  5.41743834e-02,\n",
       "         -1.84970588e-01, -3.49274142e-02, -1.31392444e-01,\n",
       "         -1.38748566e-01, -1.65799216e-01, -8.16842913e-02,\n",
       "          1.71661735e-01,  1.55835062e-01, -4.66355984e-01,\n",
       "         -2.60293091e-02, -1.89050882e-01,  2.71407761e-01,\n",
       "         -1.16898450e-01],\n",
       "        [ 3.00014005e-02,  1.58777058e-02,  2.39175627e-01,\n",
       "         -1.77947941e-02, -1.81396700e-01,  1.63168985e-02,\n",
       "         -1.57144679e-01,  1.69650949e-01,  4.80765494e-01,\n",
       "         -3.92361364e-01,  1.84538210e-01, -5.23113609e-02,\n",
       "         -2.23049569e-01, -2.16493316e-01, -1.80783331e-01,\n",
       "          1.39884362e-01, -1.84080413e-01, -1.93107472e-01,\n",
       "         -1.70345181e-01, -3.29120365e-01,  7.81752111e-02,\n",
       "         -1.18024572e-01,  1.87769343e-01, -1.30655435e-01,\n",
       "         -5.52423330e-02],\n",
       "        [-3.55203064e-02, -1.60289109e-02,  1.00389285e-01,\n",
       "          4.56746837e-02,  2.72699577e-01, -2.99157102e-01,\n",
       "         -4.64820177e-02,  4.04391473e-01, -1.51615649e-01,\n",
       "          1.34205640e-01, -3.97073636e-02,  6.82870894e-02,\n",
       "          9.54886389e-02,  3.23762765e-01, -3.92604455e-01,\n",
       "          4.32700055e-01, -5.63135824e-02,  1.61164318e-01,\n",
       "         -1.82897034e-01, -1.15134045e-01, -1.06926921e-01,\n",
       "          1.95396170e-01,  1.21321371e-01, -1.14386789e-01,\n",
       "          3.08105115e-02],\n",
       "        [ 1.18826994e-01, -9.66844704e-02, -1.00844288e-01,\n",
       "         -2.35584342e-01, -1.65631540e-01, -4.87870038e-02,\n",
       "         -1.47926644e-01,  4.75731511e-02, -1.19480494e-01,\n",
       "          3.76417559e-01, -1.66482013e-01,  1.27254734e-01,\n",
       "         -1.23505661e-01, -2.45426358e-01, -2.94746873e-01,\n",
       "          1.87270795e-01,  3.13994203e-01, -4.64793233e-01,\n",
       "          1.72684380e-01, -7.28310749e-03,  3.17583469e-01,\n",
       "         -6.29117804e-02,  3.51272694e-02, -8.64874431e-03,\n",
       "          9.47084688e-02],\n",
       "        [-4.89639221e-02, -9.75848932e-03, -2.40409892e-02,\n",
       "          3.30002413e-01, -3.87896501e-01,  5.11504025e-02,\n",
       "          3.90634858e-02, -7.22607763e-02, -1.94701328e-02,\n",
       "         -1.57138871e-01,  2.21691714e-01,  1.40893403e-02,\n",
       "         -2.00371081e-01,  1.20664893e-01,  1.67745016e-03,\n",
       "          9.32494452e-02,  4.12943167e-01,  1.45763485e-02,\n",
       "          8.90147140e-02,  8.52297043e-02, -2.21989564e-02,\n",
       "          5.92859829e-01,  6.10487784e-02, -1.91528070e-01,\n",
       "          1.09854622e-01],\n",
       "        [ 4.24618808e-01,  1.73105646e-01, -2.77222547e-02,\n",
       "          1.64398412e-01,  2.32822243e-01,  2.87881303e-01,\n",
       "          2.71810320e-01,  7.40564538e-02, -2.03199880e-01,\n",
       "         -1.54066418e-01,  2.27388548e-02,  1.09818727e-01,\n",
       "         -1.88117210e-01,  1.88562479e-01, -5.20426331e-02,\n",
       "         -1.13311594e-02, -1.21908537e-02, -2.86822273e-01,\n",
       "          2.95601847e-01, -1.86905845e-01, -2.00672073e-01,\n",
       "         -5.38199429e-02,  3.07025349e-01,  2.20201406e-01,\n",
       "         -5.87991216e-02],\n",
       "        [-8.67737703e-02, -2.20677768e-01,  5.64913454e-02,\n",
       "          3.69354041e-01, -4.81903576e-02,  7.43318645e-02,\n",
       "         -8.16398059e-02,  6.42417485e-02,  2.41923813e-01,\n",
       "         -9.94833322e-02, -3.95394051e-01,  1.92316013e-01,\n",
       "         -1.22018593e-01,  2.27386387e-01, -2.57796365e-01,\n",
       "         -2.20055798e-01,  1.25343060e-01,  2.20891451e-01,\n",
       "          1.16251405e-02,  1.28380567e-01,  2.07490979e-01,\n",
       "         -2.35941523e-01,  9.44339567e-02,  2.90464413e-01,\n",
       "          2.62995966e-01],\n",
       "        [ 1.74923745e-01,  2.36457628e-01, -3.77811128e-02,\n",
       "          4.15966157e-01, -2.40589264e-01,  2.09724267e-01,\n",
       "          4.11116318e-02, -5.29228799e-02,  1.82413350e-02,\n",
       "          4.24729511e-01, -9.23303975e-02, -3.00335606e-01,\n",
       "          6.39991958e-02, -5.50208949e-02,  1.48362949e-02,\n",
       "          1.43222038e-01, -1.52665268e-01,  8.85897674e-03,\n",
       "         -2.62986469e-01,  1.56197736e-01, -7.52525578e-02,\n",
       "         -2.43439592e-01,  2.50380255e-01, -2.70054106e-01,\n",
       "          8.87443261e-02]]),\n",
       " array([[ 6.44964551e+00,  3.57388720e-01,  5.84108937e-01,\n",
       "         -1.19430694e+00,  5.04905291e-01, -6.14830101e-01,\n",
       "          1.78989352e+00, -5.01970309e-01,  8.19980944e-01,\n",
       "         -1.12265538e-01,  4.18904007e-01, -1.51797478e+00,\n",
       "          3.60511224e-02,  5.09991080e-01,  6.54434828e-01,\n",
       "         -1.46537387e+00, -2.15453788e-01, -7.17752041e-01,\n",
       "         -1.76939049e+00,  2.66383951e-01],\n",
       "        [ 0.00000000e+00, -4.91496948e+00,  5.71359173e-01,\n",
       "         -6.14490333e-01,  1.38404598e-01, -6.12563258e-01,\n",
       "          1.50597739e+00,  5.00837619e-01, -5.25796883e-01,\n",
       "          2.03228187e-01, -1.41870584e+00, -1.72048939e+00,\n",
       "         -5.55248404e-01,  1.44319806e+00,  1.89184100e-01,\n",
       "         -3.19728709e-01,  1.53379290e+00,  1.03073166e+00,\n",
       "         -2.65773811e+00,  1.44861236e-01],\n",
       "        [ 0.00000000e+00,  0.00000000e+00,  2.27626652e+00,\n",
       "         -1.19607663e+00,  1.21937404e+00,  6.47911921e-01,\n",
       "          6.45982724e+00, -1.27179637e+00,  7.11845242e-01,\n",
       "          1.25095698e+00,  1.19975518e+00, -6.41154028e+00,\n",
       "         -5.82344880e-01,  2.60369714e-01,  1.60110372e+00,\n",
       "          8.79294432e-01, -6.95892645e-01, -7.15499930e-01,\n",
       "         -1.40754959e+00,  2.44239978e-01],\n",
       "        [ 0.00000000e+00,  0.00000000e+00,  0.00000000e+00,\n",
       "          4.30019496e+00, -1.21070094e+00, -2.93147601e-01,\n",
       "         -8.33904877e-01,  1.46578426e+00, -1.18158242e+00,\n",
       "         -1.05877647e+00,  7.75271171e-01, -8.02577054e-01,\n",
       "         -1.92867451e+00,  3.57190408e-01, -1.53590980e+00,\n",
       "          1.97683707e-01,  1.60206740e+00,  7.89278291e-01,\n",
       "          2.50283955e+00,  9.33490543e-01],\n",
       "        [ 0.00000000e+00,  0.00000000e+00,  0.00000000e+00,\n",
       "          0.00000000e+00, -3.69379341e+00, -1.49434859e+00,\n",
       "         -2.54420579e+00,  2.48445733e-01,  3.73822781e-01,\n",
       "          2.95186945e+00,  5.61440508e-01, -2.44862602e+00,\n",
       "          7.26975980e-01,  1.78044998e+00, -4.68599082e+00,\n",
       "          7.00686330e-01, -1.50660405e-01,  7.47462497e-01,\n",
       "          1.53451480e+00, -3.67077436e-01],\n",
       "        [ 0.00000000e+00,  0.00000000e+00,  0.00000000e+00,\n",
       "          0.00000000e+00,  0.00000000e+00, -3.34185377e+00,\n",
       "         -2.40549993e-16, -6.99400897e-01,  4.16189543e-02,\n",
       "          1.46811192e+00, -4.45875780e-01, -1.01490804e-16,\n",
       "          7.60496628e-01,  4.86830589e-01, -1.41907319e-16,\n",
       "          5.03214598e-01,  7.86604212e-01, -1.32131456e+00,\n",
       "         -1.50212137e+00, -9.33488533e-01],\n",
       "        [ 0.00000000e+00,  0.00000000e+00,  0.00000000e+00,\n",
       "          0.00000000e+00,  0.00000000e+00,  0.00000000e+00,\n",
       "          1.51081243e-15, -1.16186931e-01, -1.10883436e+00,\n",
       "          2.34128727e+00,  1.20025651e+00,  1.67079006e-16,\n",
       "         -2.72777458e-01, -6.13953326e-01,  5.96150906e-16,\n",
       "          1.73010133e+00,  7.09558854e-01, -1.11928418e+00,\n",
       "         -1.17749830e-01,  8.03549718e-01],\n",
       "        [ 0.00000000e+00,  0.00000000e+00,  0.00000000e+00,\n",
       "          0.00000000e+00,  0.00000000e+00,  0.00000000e+00,\n",
       "          0.00000000e+00,  3.75062496e+00,  1.39673477e+00,\n",
       "         -1.43806278e+00,  8.69535312e-01,  1.63446152e-16,\n",
       "          8.71217252e-01, -1.33262090e+00,  8.89570130e-17,\n",
       "          8.26349222e-01, -5.66120551e-01,  2.34202283e-01,\n",
       "         -1.04011710e-01,  5.77515837e-01],\n",
       "        [ 0.00000000e+00,  0.00000000e+00,  0.00000000e+00,\n",
       "          0.00000000e+00,  0.00000000e+00,  0.00000000e+00,\n",
       "          0.00000000e+00,  0.00000000e+00, -4.91575788e+00,\n",
       "         -8.51748952e-02,  1.51854410e+00,  1.53328442e-17,\n",
       "          2.16568221e-01,  1.81574708e+00, -7.58051692e-17,\n",
       "         -1.01863961e+00,  1.07011096e+00,  1.44589042e+00,\n",
       "          3.71279047e-01,  1.62072671e+00],\n",
       "        [ 0.00000000e+00,  0.00000000e+00,  0.00000000e+00,\n",
       "          0.00000000e+00,  0.00000000e+00,  0.00000000e+00,\n",
       "          0.00000000e+00,  0.00000000e+00,  0.00000000e+00,\n",
       "         -3.22758733e+00,  7.63602433e-01,  2.20627727e-16,\n",
       "          6.61626478e-01,  1.32673810e-01,  5.42564891e-17,\n",
       "         -4.11197066e-01,  1.56655701e+00, -7.32224794e-01,\n",
       "          2.07206863e+00, -2.48788899e-01],\n",
       "        [ 0.00000000e+00,  0.00000000e+00,  0.00000000e+00,\n",
       "          0.00000000e+00,  0.00000000e+00,  0.00000000e+00,\n",
       "          0.00000000e+00,  0.00000000e+00,  0.00000000e+00,\n",
       "          0.00000000e+00,  4.26417789e+00,  2.03412929e-16,\n",
       "          5.15875012e-01, -1.20197430e+00,  1.17804203e-16,\n",
       "          2.04194099e-01,  1.60648420e-01, -3.95485293e-01,\n",
       "         -8.32332084e-01,  8.20129696e-01],\n",
       "        [ 0.00000000e+00,  0.00000000e+00,  0.00000000e+00,\n",
       "          0.00000000e+00,  0.00000000e+00,  0.00000000e+00,\n",
       "          0.00000000e+00,  0.00000000e+00,  0.00000000e+00,\n",
       "          0.00000000e+00,  0.00000000e+00,  6.32385812e-16,\n",
       "         -2.15573055e-01, -1.09422489e+00,  3.95219132e-16,\n",
       "          1.84665490e-01,  9.76877266e-01,  6.73022910e-01,\n",
       "         -1.03240792e+00,  8.71535365e-02],\n",
       "        [ 0.00000000e+00,  0.00000000e+00,  0.00000000e+00,\n",
       "          0.00000000e+00,  0.00000000e+00,  0.00000000e+00,\n",
       "          0.00000000e+00,  0.00000000e+00,  0.00000000e+00,\n",
       "          0.00000000e+00,  0.00000000e+00,  0.00000000e+00,\n",
       "         -3.39093491e+00, -2.63739028e-01, -1.77944568e-16,\n",
       "         -2.36396408e+00, -1.24887285e+00,  1.40560029e+00,\n",
       "         -4.22099765e-01,  3.28783870e-01],\n",
       "        [ 0.00000000e+00,  0.00000000e+00,  0.00000000e+00,\n",
       "          0.00000000e+00,  0.00000000e+00,  0.00000000e+00,\n",
       "          0.00000000e+00,  0.00000000e+00,  0.00000000e+00,\n",
       "          0.00000000e+00,  0.00000000e+00,  0.00000000e+00,\n",
       "          0.00000000e+00, -4.15919958e+00,  1.02080395e-16,\n",
       "         -1.89303497e+00,  1.39195734e+00,  1.88216287e+00,\n",
       "         -8.93243824e-02, -1.99448346e+00],\n",
       "        [ 0.00000000e+00,  0.00000000e+00,  0.00000000e+00,\n",
       "          0.00000000e+00,  0.00000000e+00,  0.00000000e+00,\n",
       "          0.00000000e+00,  0.00000000e+00,  0.00000000e+00,\n",
       "          0.00000000e+00,  0.00000000e+00,  0.00000000e+00,\n",
       "          0.00000000e+00,  0.00000000e+00,  4.20653426e-16,\n",
       "         -3.27309083e-01,  9.03028567e-01,  7.72068912e-01,\n",
       "          1.08245183e+00,  1.61969951e+00],\n",
       "        [ 0.00000000e+00,  0.00000000e+00,  0.00000000e+00,\n",
       "          0.00000000e+00,  0.00000000e+00,  0.00000000e+00,\n",
       "          0.00000000e+00,  0.00000000e+00,  0.00000000e+00,\n",
       "          0.00000000e+00,  0.00000000e+00,  0.00000000e+00,\n",
       "          0.00000000e+00,  0.00000000e+00,  0.00000000e+00,\n",
       "         -3.19245580e+00, -1.91973942e-01,  8.03777313e-01,\n",
       "         -2.44898610e-01,  1.89637949e-01],\n",
       "        [ 0.00000000e+00,  0.00000000e+00,  0.00000000e+00,\n",
       "          0.00000000e+00,  0.00000000e+00,  0.00000000e+00,\n",
       "          0.00000000e+00,  0.00000000e+00,  0.00000000e+00,\n",
       "          0.00000000e+00,  0.00000000e+00,  0.00000000e+00,\n",
       "          0.00000000e+00,  0.00000000e+00,  0.00000000e+00,\n",
       "          0.00000000e+00, -3.74852732e+00,  2.78754592e+00,\n",
       "         -6.99339323e-01,  8.05086665e-01],\n",
       "        [ 0.00000000e+00,  0.00000000e+00,  0.00000000e+00,\n",
       "          0.00000000e+00,  0.00000000e+00,  0.00000000e+00,\n",
       "          0.00000000e+00,  0.00000000e+00,  0.00000000e+00,\n",
       "          0.00000000e+00,  0.00000000e+00,  0.00000000e+00,\n",
       "          0.00000000e+00,  0.00000000e+00,  0.00000000e+00,\n",
       "          0.00000000e+00,  0.00000000e+00,  2.08101919e+00,\n",
       "         -1.14810729e+00,  3.40860829e-01],\n",
       "        [ 0.00000000e+00,  0.00000000e+00,  0.00000000e+00,\n",
       "          0.00000000e+00,  0.00000000e+00,  0.00000000e+00,\n",
       "          0.00000000e+00,  0.00000000e+00,  0.00000000e+00,\n",
       "          0.00000000e+00,  0.00000000e+00,  0.00000000e+00,\n",
       "          0.00000000e+00,  0.00000000e+00,  0.00000000e+00,\n",
       "          0.00000000e+00,  0.00000000e+00,  0.00000000e+00,\n",
       "          2.48977224e+00,  2.07442069e+00],\n",
       "        [ 0.00000000e+00,  0.00000000e+00,  0.00000000e+00,\n",
       "          0.00000000e+00,  0.00000000e+00,  0.00000000e+00,\n",
       "          0.00000000e+00,  0.00000000e+00,  0.00000000e+00,\n",
       "          0.00000000e+00,  0.00000000e+00,  0.00000000e+00,\n",
       "          0.00000000e+00,  0.00000000e+00,  0.00000000e+00,\n",
       "          0.00000000e+00,  0.00000000e+00,  0.00000000e+00,\n",
       "          0.00000000e+00,  2.55394992e+00],\n",
       "        [ 0.00000000e+00,  0.00000000e+00,  0.00000000e+00,\n",
       "          0.00000000e+00,  0.00000000e+00,  0.00000000e+00,\n",
       "          0.00000000e+00,  0.00000000e+00,  0.00000000e+00,\n",
       "          0.00000000e+00,  0.00000000e+00,  0.00000000e+00,\n",
       "          0.00000000e+00,  0.00000000e+00,  0.00000000e+00,\n",
       "          0.00000000e+00,  0.00000000e+00,  0.00000000e+00,\n",
       "          0.00000000e+00,  0.00000000e+00],\n",
       "        [ 0.00000000e+00,  0.00000000e+00,  0.00000000e+00,\n",
       "          0.00000000e+00,  0.00000000e+00,  0.00000000e+00,\n",
       "          0.00000000e+00,  0.00000000e+00,  0.00000000e+00,\n",
       "          0.00000000e+00,  0.00000000e+00,  0.00000000e+00,\n",
       "          0.00000000e+00,  0.00000000e+00,  0.00000000e+00,\n",
       "          0.00000000e+00,  0.00000000e+00,  0.00000000e+00,\n",
       "          0.00000000e+00,  0.00000000e+00],\n",
       "        [ 0.00000000e+00,  0.00000000e+00,  0.00000000e+00,\n",
       "          0.00000000e+00,  0.00000000e+00,  0.00000000e+00,\n",
       "          0.00000000e+00,  0.00000000e+00,  0.00000000e+00,\n",
       "          0.00000000e+00,  0.00000000e+00,  0.00000000e+00,\n",
       "          0.00000000e+00,  0.00000000e+00,  0.00000000e+00,\n",
       "          0.00000000e+00,  0.00000000e+00,  0.00000000e+00,\n",
       "          0.00000000e+00,  0.00000000e+00],\n",
       "        [ 0.00000000e+00,  0.00000000e+00,  0.00000000e+00,\n",
       "          0.00000000e+00,  0.00000000e+00,  0.00000000e+00,\n",
       "          0.00000000e+00,  0.00000000e+00,  0.00000000e+00,\n",
       "          0.00000000e+00,  0.00000000e+00,  0.00000000e+00,\n",
       "          0.00000000e+00,  0.00000000e+00,  0.00000000e+00,\n",
       "          0.00000000e+00,  0.00000000e+00,  0.00000000e+00,\n",
       "          0.00000000e+00,  0.00000000e+00],\n",
       "        [ 0.00000000e+00,  0.00000000e+00,  0.00000000e+00,\n",
       "          0.00000000e+00,  0.00000000e+00,  0.00000000e+00,\n",
       "          0.00000000e+00,  0.00000000e+00,  0.00000000e+00,\n",
       "          0.00000000e+00,  0.00000000e+00,  0.00000000e+00,\n",
       "          0.00000000e+00,  0.00000000e+00,  0.00000000e+00,\n",
       "          0.00000000e+00,  0.00000000e+00,  0.00000000e+00,\n",
       "          0.00000000e+00,  0.00000000e+00]]))"
      ]
     },
     "execution_count": 184,
     "metadata": {},
     "output_type": "execute_result"
    }
   ],
   "source": [
    "spl.qr(A)"
   ]
  },
  {
   "cell_type": "code",
   "execution_count": 185,
   "metadata": {},
   "outputs": [
    {
     "data": {
      "text/plain": [
       "<matplotlib.image.AxesImage at 0x1e1e6d3d808>"
      ]
     },
     "execution_count": 185,
     "metadata": {},
     "output_type": "execute_result"
    },
    {
     "data": {
      "image/png": "[encoded data removed]",
      "text/plain": [
       "<Figure size 720x720 with 4 Axes>"
      ]
     },
     "metadata": {
      "needs_background": "light"
     },
     "output_type": "display_data"
    }
   ],
   "source": [
    "plt.figure(figsize=[10,10])\n",
    "plt.subplot(2,2,1)\n",
    "plt.title('My q')\n",
    "plt.imshow(q)\n",
    "plt.subplot(2,2,2)\n",
    "plt.title('My r')\n",
    "plt.imshow(r)\n",
    "plt.subplot(2,2,3)\n",
    "plt.title('Scipy Q')\n",
    "plt.imshow(Q)\n",
    "plt.subplot(2,2,4)\n",
    "plt.title('Scipy R')\n",
    "plt.imshow(R)"
   ]
  },
  {
   "cell_type": "markdown",
   "metadata": {},
   "source": [
    "# Problem 2"
   ]
  },
  {
   "cell_type": "code",
   "execution_count": 226,
   "metadata": {},
   "outputs": [],
   "source": [
    "def f(x):\n",
    "    return (x-2)**9\n",
    "\n",
    "def f2(x):\n",
    "    return x**9-18*x**8+144*x**7-672*x**6+2016*x**5-4032*x**4+5376*x**3-4608*x**2+2304*x-512"
   ]
  },
  {
   "cell_type": "code",
   "execution_count": 223,
   "metadata": {},
   "outputs": [],
   "source": [
    "dx=.001\n",
    "x = np.arange(1.92,2.08+dx,dx)"
   ]
  },
  {
   "cell_type": "code",
   "execution_count": 238,
   "metadata": {},
   "outputs": [
    {
     "data": {
      "image/png": "[encoded data removed]",
      "text/plain": [
       "<Figure size 720x504 with 1 Axes>"
      ]
     },
     "metadata": {
      "needs_background": "light"
     },
     "output_type": "display_data"
    }
   ],
   "source": [
    "plt.figure(figsize=[10,7])\n",
    "plt.plot(x,f(x), label='LHS')\n",
    "plt.plot(x,f2(x), label='RHS')\n",
    "plt.xlabel('x'); plt.ylabel('f(x)', rotation=0)\n",
    "plt.title('Left and Right Hand Side of $(x-2)^9$');\n",
    "plt.legend();"
   ]
  },
  {
   "cell_type": "markdown",
   "metadata": {},
   "source": [
    "# Problem 3"
   ]
  },
  {
   "cell_type": "code",
   "execution_count": null,
   "metadata": {},
   "outputs": [],
   "source": []
  }
 ],
 "metadata": {
  "kernelspec": {
   "display_name": "Python 3",
   "language": "python",
   "name": "python3"
  },
  "language_info": {
   "codemirror_mode": {
    "name": "ipython",
    "version": 3
   },
   "file_extension": ".py",
   "mimetype": "text/x-python",
   "name": "python",
   "nbconvert_exporter": "python",
   "pygments_lexer": "ipython3",
   "version": "3.7.9"
  }
 },
 "nbformat": 4,
 "nbformat_minor": 4
}
