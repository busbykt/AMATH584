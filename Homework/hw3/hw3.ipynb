{
 "cells": [
  {
   "cell_type": "markdown",
   "metadata": {},
   "source": [
    "AMATH 584 Homework 3  \n",
    "Kelton Busby"
   ]
  },
  {
   "cell_type": "markdown",
   "metadata": {},
   "source": [
    "# Problem 1"
   ]
  },
  {
   "cell_type": "code",
   "execution_count": 58,
   "metadata": {},
   "outputs": [],
   "source": [
    "import numpy as np\n",
    "import os\n",
    "import scipy.linalg as spl\n",
    "from matplotlib import pyplot as plt"
   ]
  },
  {
   "cell_type": "markdown",
   "metadata": {},
   "source": [
    "## Download datasets:"
   ]
  },
  {
   "cell_type": "code",
   "execution_count": 21,
   "metadata": {},
   "outputs": [
    {
     "name": "stdout",
     "output_type": "stream",
     "text": [
      "number of images: 165\n"
     ]
    }
   ],
   "source": [
    "# Iterate through the original images folder finding all files\n",
    "filelist=[]\n",
    "for root, dirs, files in os.walk('C://Users//Kelton//UW//AMATH584//Homework//hw2/yalefaces/'):\n",
    "    for file in files:\n",
    "        #append the file name to the list\n",
    "        filelist.append(os.path.join(root,file))\n",
    "        \n",
    "print('number of images:',len(filelist))\n",
    "\n",
    "# Build a list of images from the files\n",
    "images=[]\n",
    "for imgfile in filelist:\n",
    "    images.append(plt.imread(imgfile))"
   ]
  },
  {
   "cell_type": "code",
   "execution_count": 16,
   "metadata": {},
   "outputs": [
    {
     "name": "stdout",
     "output_type": "stream",
     "text": [
      "number of images: 272\n"
     ]
    }
   ],
   "source": [
    "# Iterate through the cropped images folder finding all files\n",
    "filelist=[]\n",
    "for root, dirs, files in os.walk('C:\\\\Users\\\\Kelton\\\\UW\\\\AMATH584\\\\Homework\\\\hw2\\\\yalefaces_cropped'):\n",
    "    for file in files:\n",
    "        #append the file name to the list\n",
    "        filelist.append(os.path.join(root,file))\n",
    "        \n",
    "print('number of images:',len(filelist))\n",
    "\n",
    "# Build a list of images from the files\n",
    "cropped_images=[]\n",
    "for imgfile in filelist:\n",
    "    cropped_images.append(plt.imread(imgfile))"
   ]
  },
  {
   "cell_type": "markdown",
   "metadata": {},
   "source": [
    "## Modified Gram-Schmidt Orthogonalization Procedure"
   ]
  },
  {
   "cell_type": "code",
   "execution_count": 82,
   "metadata": {},
   "outputs": [],
   "source": [
    "A = random.randn(25,20)"
   ]
  },
  {
   "cell_type": "code",
   "execution_count": 96,
   "metadata": {},
   "outputs": [],
   "source": [
    "def modGramSchmidt(A):\n",
    "    \n",
    "    m,n = np.shape(A)\n",
    "    Q = np.zeros([m,m])\n",
    "    R = np.zeros([m,n])\n",
    "    V = A.copy()\n",
    "    \n",
    "    \n",
    "    '''Returns an orthogonalization of input matrix A using modified Gram-Schmidt algorithm.'''\n",
    "    \n",
    "    for i in np.arange(0,n):\n",
    "        \n",
    "        R[i,i] = spl.norm(V[:,0])\n",
    "        Q[:,i]=V[:,i] / R[i,i]\n",
    "        \n",
    "        for j in np.arange(i+1,n):\n",
    "            \n",
    "            QH = np.array(np.matrix(Q).H)\n",
    "            R[i,j] = np.dot(QH[:,i],V[:,j])\n",
    "            V[:,j] = V[:,j] - np.dot(R[i,j],Q[:,i])            \n",
    "        \n",
    "    return Q,R\n",
    "    "
   ]
  },
  {
   "cell_type": "code",
   "execution_count": 97,
   "metadata": {},
   "outputs": [],
   "source": [
    "q,r = modGramSchmidt(A)"
   ]
  },
  {
   "cell_type": "code",
   "execution_count": 89,
   "metadata": {},
   "outputs": [],
   "source": [
    "Q, R = spl.qr(A)"
   ]
  },
  {
   "cell_type": "code",
   "execution_count": 102,
   "metadata": {},
   "outputs": [
    {
     "data": {
      "text/plain": [
       "array([-4.64721926e-02,  1.20833087e-01, -5.28536020e-02,  3.68389065e-01,\n",
       "       -1.58541453e-01,  1.52586089e-02,  6.23174703e-02, -7.53448458e-02,\n",
       "       -2.50100377e-02, -2.82418334e-02, -2.10521856e-01,  1.10703255e-01,\n",
       "       -2.76857255e-01,  5.12529212e-02, -2.44063652e-01,  4.30486821e-01,\n",
       "       -1.54357119e-01,  4.98818038e-01,  2.38490392e-01,  1.98451598e-01,\n",
       "       -1.17617760e-04, -2.24403621e-01, -7.46790742e-02,  5.16630388e-02,\n",
       "        1.17190179e-02])"
      ]
     },
     "execution_count": 102,
     "metadata": {},
     "output_type": "execute_result"
    }
   ],
   "source": [
    "Q[0]"
   ]
  },
  {
   "cell_type": "code",
   "execution_count": 103,
   "metadata": {},
   "outputs": [
    {
     "data": {
      "text/plain": [
       "array([ 0.04647219, -0.13152895, -0.07991247,  0.21365552,  0.24046448,\n",
       "       -0.16306149,  0.10764529, -0.13924245, -0.08439342,  0.12460081,\n",
       "       -0.09668627,  0.1034107 , -0.24117738,  0.06613904,  0.16261078,\n",
       "        0.39023154,  0.01841627, -0.0206131 , -0.13072882, -0.01642854,\n",
       "        0.        ,  0.        ,  0.        ,  0.        ,  0.        ])"
      ]
     },
     "execution_count": 103,
     "metadata": {},
     "output_type": "execute_result"
    }
   ],
   "source": [
    "q[0]"
   ]
  },
  {
   "cell_type": "code",
   "execution_count": 104,
   "metadata": {},
   "outputs": [
    {
     "data": {
      "text/plain": [
       "array([-4.87566555,  1.26889654,  1.69498164, -1.56557684, -1.3433962 ,\n",
       "        0.30415582,  0.70902853, -0.456333  , -0.04962977, -0.5098901 ,\n",
       "        1.31409746,  0.81888382,  0.66322264,  0.56026083,  0.17073658,\n",
       "        0.39114962, -0.50452943,  1.29598487,  0.24746676,  1.95521187])"
      ]
     },
     "execution_count": 104,
     "metadata": {},
     "output_type": "execute_result"
    }
   ],
   "source": [
    "R[0]"
   ]
  },
  {
   "cell_type": "code",
   "execution_count": 105,
   "metadata": {},
   "outputs": [
    {
     "data": {
      "text/plain": [
       "array([ 4.87566555, -0.02986671, -0.01911273,  0.04767314,  0.05293507,\n",
       "       -0.03528407,  0.02202659, -0.03308594, -0.01671546,  0.02647038,\n",
       "       -0.01877504,  0.02506043, -0.06460746,  0.01719814,  0.04611032,\n",
       "        0.10674823,  0.02293828, -0.04776726, -0.01927824,  0.01303765])"
      ]
     },
     "execution_count": 105,
     "metadata": {},
     "output_type": "execute_result"
    }
   ],
   "source": [
    "r[0]"
   ]
  },
  {
   "cell_type": "code",
   "execution_count": 106,
   "metadata": {},
   "outputs": [
    {
     "data": {
      "text/plain": [
       "13.6427585801428"
      ]
     },
     "execution_count": 106,
     "metadata": {},
     "output_type": "execute_result"
    }
   ],
   "source": [
    "np.linalg.cond(A)"
   ]
  },
  {
   "cell_type": "code",
   "execution_count": 115,
   "metadata": {},
   "outputs": [],
   "source": [
    "from sklearn.datasets import make_classification\n",
    "A = make_classification(n_redundant=2)[0]"
   ]
  },
  {
   "cell_type": "code",
   "execution_count": 117,
   "metadata": {},
   "outputs": [
    {
     "data": {
      "text/plain": [
       "(array([[-0.09737497,  0.09537862,  0.02971996, ...,  0.        ,\n",
       "          0.        ,  0.        ],\n",
       "        [-0.07022483, -0.02704914,  0.03907363, ...,  0.        ,\n",
       "          0.        ,  0.        ],\n",
       "        [-0.08855556,  0.09393345, -0.02578961, ...,  0.        ,\n",
       "          0.        ,  0.        ],\n",
       "        ...,\n",
       "        [-0.01395009, -0.09337805,  0.09688061, ...,  0.        ,\n",
       "          0.        ,  0.        ],\n",
       "        [-0.05873064, -0.03484292,  0.03629031, ...,  0.        ,\n",
       "          0.        ,  0.        ],\n",
       "        [ 0.09749442,  0.1511321 ,  0.06153027, ...,  0.        ,\n",
       "          0.        ,  0.        ]]),\n",
       " array([[ 1.25402842e+01, -1.17582676e-01, -3.62712552e-02, ...,\n",
       "         -3.23247561e-02, -6.76076394e-02, -1.24857948e-02],\n",
       "        [ 0.00000000e+00,  1.25402842e+01, -3.91926569e-02, ...,\n",
       "         -3.20969023e-02, -5.24252484e-02,  6.91368422e-03],\n",
       "        [ 0.00000000e+00,  0.00000000e+00,  1.25402842e+01, ...,\n",
       "         -4.69688453e-03, -3.03682610e-02, -6.83478943e-02],\n",
       "        ...,\n",
       "        [ 0.00000000e+00,  0.00000000e+00,  0.00000000e+00, ...,\n",
       "          0.00000000e+00,  0.00000000e+00,  0.00000000e+00],\n",
       "        [ 0.00000000e+00,  0.00000000e+00,  0.00000000e+00, ...,\n",
       "          0.00000000e+00,  0.00000000e+00,  0.00000000e+00],\n",
       "        [ 0.00000000e+00,  0.00000000e+00,  0.00000000e+00, ...,\n",
       "          0.00000000e+00,  0.00000000e+00,  0.00000000e+00]]))"
      ]
     },
     "execution_count": 117,
     "metadata": {},
     "output_type": "execute_result"
    }
   ],
   "source": [
    "modGramSchmidt(A)"
   ]
  },
  {
   "cell_type": "code",
   "execution_count": 118,
   "metadata": {},
   "outputs": [
    {
     "data": {
      "text/plain": [
       "(array([[-0.09737497,  0.09318322,  0.04036278, ...,  0.00601613,\n",
       "          0.0188338 ,  0.00480716],\n",
       "        [-0.07022483, -0.04160584,  0.05166198, ..., -0.07674264,\n",
       "         -0.05715277,  0.12446431],\n",
       "        [-0.08855556,  0.09291069, -0.03050712, ...,  0.06233783,\n",
       "          0.00761857,  0.12333239],\n",
       "        ...,\n",
       "        [-0.01395009, -0.10818324,  0.12375723, ...,  0.78353148,\n",
       "         -0.04753857,  0.06182819],\n",
       "        [-0.05873064, -0.04867144,  0.04781594, ..., -0.03358375,\n",
       "          0.88684753, -0.0066998 ],\n",
       "        [ 0.09749442,  0.18671707,  0.0754655 , ...,  0.10838481,\n",
       "          0.01958326,  0.72029271]]),\n",
       " array([[12.54028416, -1.83116003,  0.23615759, ..., -4.24043617,\n",
       "         -0.87010945, -0.64508436],\n",
       "        [ 0.        , 11.04507278, -0.02478071, ...,  0.06507149,\n",
       "          0.27801934, -0.40917534],\n",
       "        [ 0.        ,  0.        ,  9.8555024 , ...,  0.04687404,\n",
       "         -0.95293927, -0.32504168],\n",
       "        ...,\n",
       "        [ 0.        ,  0.        ,  0.        , ...,  0.        ,\n",
       "          0.        ,  0.        ],\n",
       "        [ 0.        ,  0.        ,  0.        , ...,  0.        ,\n",
       "          0.        ,  0.        ],\n",
       "        [ 0.        ,  0.        ,  0.        , ...,  0.        ,\n",
       "          0.        ,  0.        ]]))"
      ]
     },
     "execution_count": 118,
     "metadata": {},
     "output_type": "execute_result"
    }
   ],
   "source": [
    "spl.qr(A)"
   ]
  }
 ],
 "metadata": {
  "kernelspec": {
   "display_name": "Python 3",
   "language": "python",
   "name": "python3"
  },
  "language_info": {
   "codemirror_mode": {
    "name": "ipython",
    "version": 3
   },
   "file_extension": ".py",
   "mimetype": "text/x-python",
   "name": "python",
   "nbconvert_exporter": "python",
   "pygments_lexer": "ipython3",
   "version": "3.7.9"
  }
 },
 "nbformat": 4,
 "nbformat_minor": 4
}
