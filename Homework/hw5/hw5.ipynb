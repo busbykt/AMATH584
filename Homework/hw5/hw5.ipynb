{
 "cells": [
  {
   "cell_type": "code",
   "execution_count": 130,
   "metadata": {},
   "outputs": [],
   "source": [
    "import numpy as np\n",
    "import matplotlib.pyplot as plt\n",
    "import scipy as sp\n",
    "import os\n",
    "import seaborn as sns\n",
    "from numpy.linalg import norm\n",
    "from numpy.linalg import inv\n",
    "import pandas as pd"
   ]
  },
  {
   "cell_type": "markdown",
   "metadata": {},
   "source": [
    "# 1(a)"
   ]
  },
  {
   "cell_type": "code",
   "execution_count": 131,
   "metadata": {},
   "outputs": [],
   "source": [
    "# square dimension\n",
    "m=10\n",
    "\n",
    "# generate mxm symmetric matrix\n",
    "A = np.random.randn(m,m)\n",
    "A = (A+A.T)/2"
   ]
  },
  {
   "cell_type": "code",
   "execution_count": 132,
   "metadata": {},
   "outputs": [
    {
     "data": {
      "text/plain": [
       "<matplotlib.image.AxesImage at 0x1f4da852c08>"
      ]
     },
     "execution_count": 132,
     "metadata": {},
     "output_type": "execute_result"
    },
    {
     "data": {
      "image/png": "[encoded data removed]",
      "text/plain": [
       "<Figure size 288x288 with 1 Axes>"
      ]
     },
     "metadata": {
      "needs_background": "light"
     },
     "output_type": "display_data"
    }
   ],
   "source": [
    "# visualize the symmetric matrix\n",
    "plt.matshow(A)"
   ]
  },
  {
   "cell_type": "code",
   "execution_count": 133,
   "metadata": {},
   "outputs": [
    {
     "data": {
      "text/plain": [
       "-547.998773555943"
      ]
     },
     "execution_count": 133,
     "metadata": {},
     "output_type": "execute_result"
    }
   ],
   "source": [
    "# check the determinant\n",
    "np.linalg.det(A)"
   ]
  },
  {
   "cell_type": "code",
   "execution_count": 134,
   "metadata": {},
   "outputs": [],
   "source": [
    "# calculate eigenvalues and eigenvectors\n",
    "w_true,v_true = np.linalg.eig(A)"
   ]
  },
  {
   "cell_type": "markdown",
   "metadata": {},
   "source": [
    "# 1(b)"
   ]
  },
  {
   "cell_type": "code",
   "execution_count": 135,
   "metadata": {},
   "outputs": [],
   "source": [
    "def power_iteration(A, iterations):\n",
    "    \n",
    "    '''Finds the largest eigenvalue of matrix A.'''\n",
    "    \n",
    "    w_true,v_true = np.linalg.eig(A)\n",
    "    w0_true = w_true[np.argmax(np.abs(w_true))]\n",
    "    \n",
    "    # set up plot\n",
    "    plt.figure(figsize=[10,6])\n",
    "    \n",
    "    # first guess at eigenvector\n",
    "    b = np.random.randn(A.shape[1])\n",
    "    b = b / norm(b)\n",
    "    \n",
    "    # power iterate\n",
    "    for i in np.arange(0,iterations,1):\n",
    "        b = A@b / np.linalg.norm(A@b)\n",
    "        \n",
    "        # use rayleigh quotient to compute eigenvalue\n",
    "        w = b.T.conjugate()@A@b/(b.T.conjugate()@b)\n",
    "        \n",
    "        #plot eigenvalue approaching true eigenvalue\n",
    "        plt.scatter(i,np.abs(w0_true-w), c='C0', alpha=.3)\n",
    "        if i == iterations-1:\n",
    "            plt.scatter(i,np.abs(w0_true-w), c='C0')\n",
    "            \n",
    "    plt.title('Power Iteration - Largest Eigenvalue Error')\n",
    "    plt.yscale('log');\n",
    "    plt.ylabel('Absolute Error \\n (Log Scale)'); plt.xlabel('Iterations');\n",
    "    \n",
    "    return w,b"
   ]
  },
  {
   "cell_type": "code",
   "execution_count": 136,
   "metadata": {},
   "outputs": [
    {
     "data": {
      "image/png": "[encoded data removed]",
      "text/plain": [
       "<Figure size 720x432 with 1 Axes>"
      ]
     },
     "metadata": {
      "needs_background": "light"
     },
     "output_type": "display_data"
    }
   ],
   "source": [
    "w,b = power_iteration(A, iterations=100)"
   ]
  },
  {
   "cell_type": "markdown",
   "metadata": {},
   "source": [
    "Error in the iteration method drops exponentially as seen in the Log-Linear plot above, until settling around $ 10^{-14} $. Likely no longer dropping due to roundoff at floating point precision."
   ]
  },
  {
   "cell_type": "markdown",
   "metadata": {},
   "source": [
    "# 1(c)"
   ]
  },
  {
   "cell_type": "code",
   "execution_count": 137,
   "metadata": {},
   "outputs": [],
   "source": [
    "def rayleigh_quotient_iteration(A, iterations=10):\n",
    "    \n",
    "    '''Finds the eigenvalues of matrix A.'''\n",
    "    \n",
    "    w_true,v_true = np.linalg.eig(A)\n",
    "    w0_true = w_true[np.argmax(np.abs(w_true))]\n",
    "    \n",
    "    # first guess at eigenvector\n",
    "    b = np.random.rand(A.shape[0])\n",
    "    b = b / norm(b)\n",
    "\n",
    "    q,r = np.linalg.qr(A)\n",
    "    \n",
    "    # first guess at eigenvalue\n",
    "    w = b.T.conjugate()@A@b/(b.T.conjugate()@b)\n",
    "\n",
    "    # Rayleigh Quotient iteration\n",
    "    for i in np.arange(0,iterations,1):\n",
    "\n",
    "        b = inv((A - w*np.identity(A.shape[0])))@b / norm(inv((A - w*np.identity(A.shape[0])))@b)\n",
    "        w = b.T.conjugate()@A@b/(b.T.conjugate()@b)\n",
    "\n",
    "    return w,b"
   ]
  },
  {
   "cell_type": "code",
   "execution_count": 138,
   "metadata": {},
   "outputs": [],
   "source": [
    "w,b = rayleigh_quotient_iteration(A)"
   ]
  },
  {
   "cell_type": "code",
   "execution_count": 139,
   "metadata": {},
   "outputs": [],
   "source": [
    "w0_true = w_true[min(range(len(w_true)), key=lambda j: abs(w_true[j]-w))]"
   ]
  },
  {
   "cell_type": "code",
   "execution_count": 140,
   "metadata": {},
   "outputs": [
    {
     "data": {
      "text/plain": [
       "0.5107494312046412"
      ]
     },
     "execution_count": 140,
     "metadata": {},
     "output_type": "execute_result"
    }
   ],
   "source": [
    "w"
   ]
  },
  {
   "cell_type": "code",
   "execution_count": 141,
   "metadata": {},
   "outputs": [
    {
     "data": {
      "text/plain": [
       "0.5107494312046413"
      ]
     },
     "execution_count": 141,
     "metadata": {},
     "output_type": "execute_result"
    }
   ],
   "source": [
    "w0_true"
   ]
  },
  {
   "cell_type": "markdown",
   "metadata": {},
   "source": [
    "Simply guessing at the eigenvectors and performing Rayleigh Quotient Iteration converges cubically to a single eigenvalue and vector. This does not give all 10 eigenvalues, and randomly guessing until all 10 are found would be inefficient.\n",
    "\n",
    "I will have to improve the inital guesses to improve the convergance. I have found that the algorithm to rayleigh quotient iteration for finding all eigenvalues is called the subspace iteration.\n",
    "\n",
    "This algorithm subtracts the components of all other eigenvectors before performing the QR and performing the rayleigh quotient iteration process. This causes the algorithm to converge to each eigenvalue one after another."
   ]
  },
  {
   "cell_type": "code",
   "execution_count": 142,
   "metadata": {},
   "outputs": [],
   "source": [
    "def subspace_iteration(A, iterations=20):\n",
    "    \n",
    "    '''Finds the eigenvalues of matrix A.'''\n",
    "    \n",
    "    w_found = []\n",
    "    b_found = []\n",
    "    \n",
    "    for j in np.arange(0,len(w_true),1):\n",
    "        # guess at eigenvector\n",
    "        if j>0:\n",
    "            b = np.random.rand(A.shape[0])\n",
    "            for b_ in b_found:\n",
    "                b = b - b_.T.conjugate()@np.outer(b,b_)\n",
    "            b = b / norm(b)\n",
    "        else:\n",
    "            b = np.random.rand(A.shape[0])\n",
    "            b = b / norm(b)\n",
    "            \n",
    "        q,r = np.linalg.qr(A)\n",
    "\n",
    "        # first guess at eigenvalue\n",
    "        w = b.T.conjugate()@A@b/(b.T.conjugate()@b)\n",
    "\n",
    "        # Rayleigh Quotient iteration\n",
    "        for i in np.arange(0,iterations,1):\n",
    "\n",
    "            b = inv((A - w*np.identity(A.shape[0])))@b / norm(inv((A - w*np.identity(A.shape[0])))@b)\n",
    "            w = b.T.conjugate()@A@b/(b.T.conjugate()@b)\n",
    "            \n",
    "        # save eigenvalue/vector\n",
    "        w_found.append(w) \n",
    "        b_found.append(b)\n",
    "    \n",
    "    return w_found,b_found"
   ]
  },
  {
   "cell_type": "markdown",
   "metadata": {},
   "source": [
    "Eigenvalues found by subspace iteration:"
   ]
  },
  {
   "cell_type": "code",
   "execution_count": 143,
   "metadata": {},
   "outputs": [
    {
     "data": {
      "text/plain": [
       "[-0.55708,\n",
       " -1.17293,\n",
       " 2.17455,\n",
       " 2.5902,\n",
       " -2.89404,\n",
       " 0.51075,\n",
       " 2.76226,\n",
       " 3.98255,\n",
       " -3.66611,\n",
       " -2.49774]"
      ]
     },
     "execution_count": 143,
     "metadata": {},
     "output_type": "execute_result"
    }
   ],
   "source": [
    "w,b = subspace_iteration(A)\n",
    "np.round(w,5).tolist()"
   ]
  },
  {
   "cell_type": "markdown",
   "metadata": {},
   "source": [
    "Eigenvalues found by numpy \"eig\":"
   ]
  },
  {
   "cell_type": "code",
   "execution_count": 144,
   "metadata": {},
   "outputs": [
    {
     "data": {
      "text/plain": [
       "[-3.66611,\n",
       " -2.89404,\n",
       " -2.49774,\n",
       " 3.98255,\n",
       " 2.76226,\n",
       " 2.5902,\n",
       " 2.17455,\n",
       " -1.17293,\n",
       " -0.55708,\n",
       " 0.51075]"
      ]
     },
     "execution_count": 144,
     "metadata": {},
     "output_type": "execute_result"
    }
   ],
   "source": [
    "np.round(w_true,5).tolist()"
   ]
  },
  {
   "cell_type": "markdown",
   "metadata": {},
   "source": [
    "Eigenvalues found by subspace iteration:"
   ]
  },
  {
   "cell_type": "code",
   "execution_count": 145,
   "metadata": {},
   "outputs": [
    {
     "data": {
      "text/plain": [
       "[array([-0.10482837, -0.35455444,  0.27426841, -0.20005553, -0.11262783,\n",
       "         0.16272117,  0.57862236,  0.29170461, -0.10988004, -0.5262362 ]),\n",
       " array([-0.09090234,  0.46809906,  0.69028806, -0.07551388, -0.07971174,\n",
       "        -0.27087974,  0.29028619, -0.1182482 ,  0.24725441,  0.22651012]),\n",
       " array([-0.277617  , -0.47657959,  0.26763497,  0.12976603, -0.00577327,\n",
       "        -0.59537915, -0.23360194,  0.12263744, -0.39005867,  0.17626051]),\n",
       " array([ 0.46377982, -0.29551274,  0.24679055,  0.67804948,  0.18829799,\n",
       "         0.10943765,  0.19424307, -0.29867689,  0.0497646 ,  0.00873643]),\n",
       " array([ 0.5322544 , -0.06273509, -0.10591431, -0.19171006,  0.31715966,\n",
       "        -0.43847144,  0.04628776,  0.49427399,  0.35426024,  0.00136967]),\n",
       " array([-0.01123709,  0.26570507, -0.31562505,  0.37669443, -0.44628073,\n",
       "        -0.49766235,  0.11803065, -0.07789794,  0.05207417, -0.46713096]),\n",
       " array([ 0.1229567 , -0.19035573,  0.29105817,  0.08306001, -0.58877468,\n",
       "         0.22225562, -0.476937  ,  0.27341036,  0.39671473, -0.03707595]),\n",
       " array([-0.06454577, -0.46055959, -0.14305657, -0.36733688, -0.11251784,\n",
       "        -0.19552656,  0.09697907, -0.59929846,  0.45595584,  0.03109548]),\n",
       " array([ 0.5718437 ,  0.10518428,  0.20526513, -0.39511476, -0.16256473,\n",
       "        -0.0737661 , -0.22788255, -0.30787105, -0.47850293, -0.23692359]),\n",
       " array([-0.2426399 ,  0.0822769 ,  0.23998823,  0.03290375,  0.50987413,\n",
       "        -0.02642752, -0.42866276, -0.13269   ,  0.22296628, -0.60327189])]"
      ]
     },
     "execution_count": 145,
     "metadata": {},
     "output_type": "execute_result"
    }
   ],
   "source": [
    "b"
   ]
  },
  {
   "cell_type": "markdown",
   "metadata": {},
   "source": [
    "Eigenvectors found by numpy \"eig\":"
   ]
  },
  {
   "cell_type": "code",
   "execution_count": 146,
   "metadata": {},
   "outputs": [
    {
     "data": {
      "text/plain": [
       "array([[-0.5718437 , -0.5322544 ,  0.2426399 , -0.06454577, -0.1229567 ,\n",
       "         0.46377982,  0.277617  ,  0.09090234,  0.10482837,  0.01123709],\n",
       "       [-0.10518428,  0.06273509, -0.0822769 , -0.46055959,  0.19035573,\n",
       "        -0.29551274,  0.47657959, -0.46809906,  0.35455444, -0.26570507],\n",
       "       [-0.20526513,  0.10591431, -0.23998823, -0.14305657, -0.29105817,\n",
       "         0.24679055, -0.26763497, -0.69028806, -0.27426841,  0.31562505],\n",
       "       [ 0.39511476,  0.19171006, -0.03290375, -0.36733688, -0.08306001,\n",
       "         0.67804948, -0.12976603,  0.07551388,  0.20005553, -0.37669443],\n",
       "       [ 0.16256473, -0.31715966, -0.50987413, -0.11251784,  0.58877468,\n",
       "         0.18829799,  0.00577327,  0.07971174,  0.11262783,  0.44628073],\n",
       "       [ 0.0737661 ,  0.43847144,  0.02642752, -0.19552656, -0.22225562,\n",
       "         0.10943765,  0.59537915,  0.27087974, -0.16272117,  0.49766235],\n",
       "       [ 0.22788255, -0.04628776,  0.42866276,  0.09697907,  0.476937  ,\n",
       "         0.19424307,  0.23360194, -0.29028619, -0.57862236, -0.11803065],\n",
       "       [ 0.30787105, -0.49427399,  0.13269   , -0.59929846, -0.27341036,\n",
       "        -0.29867689, -0.12263744,  0.1182482 , -0.29170461,  0.07789794],\n",
       "       [ 0.47850293, -0.35426024, -0.22296628,  0.45595584, -0.39671473,\n",
       "         0.0497646 ,  0.39005867, -0.24725441,  0.10988004, -0.05207417],\n",
       "       [ 0.23692359, -0.00136967,  0.60327189,  0.03109548,  0.03707595,\n",
       "         0.00873643, -0.17626051, -0.22651012,  0.5262362 ,  0.46713096]])"
      ]
     },
     "execution_count": 146,
     "metadata": {},
     "output_type": "execute_result"
    }
   ],
   "source": [
    "v_true"
   ]
  },
  {
   "cell_type": "markdown",
   "metadata": {},
   "source": [
    "# 1(d)"
   ]
  },
  {
   "cell_type": "code",
   "execution_count": 147,
   "metadata": {},
   "outputs": [],
   "source": [
    "A = np.random.randn(m,m)"
   ]
  },
  {
   "cell_type": "code",
   "execution_count": 148,
   "metadata": {},
   "outputs": [
    {
     "data": {
      "image/png": "[encoded data removed]",
      "text/plain": [
       "<Figure size 720x432 with 1 Axes>"
      ]
     },
     "metadata": {
      "needs_background": "light"
     },
     "output_type": "display_data"
    }
   ],
   "source": [
    "w,b = power_iteration(A, iterations=20)"
   ]
  },
  {
   "cell_type": "code",
   "execution_count": 149,
   "metadata": {},
   "outputs": [],
   "source": [
    "w_true,v_true = np.linalg.eig(A)"
   ]
  },
  {
   "cell_type": "markdown",
   "metadata": {},
   "source": [
    "the algorithm does not converge to a good estimate of the largest eigenvalue."
   ]
  },
  {
   "cell_type": "code",
   "execution_count": 150,
   "metadata": {},
   "outputs": [
    {
     "data": {
      "text/plain": [
       "array([ 3.84815637+0.j        , -2.92148739+0.j        ,\n",
       "        0.06460766+3.2306625j ,  0.06460766-3.2306625j ,\n",
       "        0.38764563+1.86163936j,  0.38764563-1.86163936j,\n",
       "        1.43294956+0.j        , -0.34159546+0.42075668j,\n",
       "       -0.34159546-0.42075668j, -1.08976402+0.j        ])"
      ]
     },
     "execution_count": 150,
     "metadata": {},
     "output_type": "execute_result"
    }
   ],
   "source": [
    "w_true"
   ]
  },
  {
   "cell_type": "code",
   "execution_count": 151,
   "metadata": {},
   "outputs": [
    {
     "data": {
      "text/plain": [
       "3.701216361066222"
      ]
     },
     "execution_count": 151,
     "metadata": {},
     "output_type": "execute_result"
    }
   ],
   "source": [
    "w"
   ]
  },
  {
   "cell_type": "code",
   "execution_count": 152,
   "metadata": {},
   "outputs": [
    {
     "data": {
      "image/png": "[encoded data removed]",
      "text/plain": [
       "<Figure size 720x432 with 1 Axes>"
      ]
     },
     "metadata": {
      "needs_background": "light"
     },
     "output_type": "display_data"
    }
   ],
   "source": [
    "plt.figure(figsize=[10,6])\n",
    "X = [x.real for x in w_true]\n",
    "Y = [x.imag for x in w_true]\n",
    "plt.scatter(X,Y, label='Actual')\n",
    "plt.scatter(w,0, label='power iteration estimate of largest')\n",
    "plt.legend(); plt.title('Complex plane Eigenvalues and Estimate of largest')\n",
    "plt.xlabel('Real'); plt.ylabel('Complex');\n",
    "plt.grid()\n",
    "plt.show()"
   ]
  },
  {
   "cell_type": "markdown",
   "metadata": {},
   "source": [
    "Subspace iterating to find all:"
   ]
  },
  {
   "cell_type": "code",
   "execution_count": 153,
   "metadata": {},
   "outputs": [],
   "source": [
    "w,b = subspace_iteration(A)"
   ]
  },
  {
   "cell_type": "code",
   "execution_count": 154,
   "metadata": {
    "scrolled": false
   },
   "outputs": [
    {
     "data": {
      "image/png": "[encoded data removed]",
      "text/plain": [
       "<Figure size 720x432 with 1 Axes>"
      ]
     },
     "metadata": {
      "needs_background": "light"
     },
     "output_type": "display_data"
    }
   ],
   "source": [
    "plt.figure(figsize=[10,6])\n",
    "X = [x.real for x in w_true]\n",
    "Y = [x.imag for x in w_true]\n",
    "plt.scatter(X,Y, label='Actual')\n",
    "plt.scatter(w,[0]*len(w), label='subspace iterations')\n",
    "plt.legend(); plt.title('Complex plane Eigenvalues and Subspace iteration estimates')\n",
    "plt.xlabel('Real'); plt.ylabel('Complex');\n",
    "plt.grid()\n",
    "plt.show()"
   ]
  },
  {
   "cell_type": "markdown",
   "metadata": {},
   "source": [
    "The iterative technique fails to find the eigenvalues."
   ]
  },
  {
   "cell_type": "markdown",
   "metadata": {},
   "source": [
    "# 2(a)"
   ]
  },
  {
   "cell_type": "code",
   "execution_count": 155,
   "metadata": {},
   "outputs": [
    {
     "name": "stdout",
     "output_type": "stream",
     "text": [
      "number of images: 272\n"
     ]
    }
   ],
   "source": [
    "# Iterate through the cropped images folder finding all files\n",
    "filelist=[]\n",
    "for root, dirs, files in os.walk('C:\\\\Users\\\\Kelton\\\\UW\\\\AMATH584\\\\Homework\\\\hw2\\\\yalefaces_cropped'):\n",
    "    for file in files:\n",
    "        #append the file name to the list\n",
    "        filelist.append(os.path.join(root,file))\n",
    "        \n",
    "print('number of images:',len(filelist))"
   ]
  },
  {
   "cell_type": "code",
   "execution_count": 156,
   "metadata": {},
   "outputs": [],
   "source": [
    "# Build a list of images from the files\n",
    "images=[]\n",
    "for imgfile in filelist:\n",
    "    images.append(plt.imread(imgfile))"
   ]
  },
  {
   "cell_type": "code",
   "execution_count": 157,
   "metadata": {},
   "outputs": [
    {
     "name": "stdout",
     "output_type": "stream",
     "text": [
      "A Shape: (32256, 272)\n"
     ]
    }
   ],
   "source": [
    "# create a list of all array data from the images\n",
    "A = []\n",
    "for image in images:\n",
    "    A.append(np.reshape(image,(-1,1)))\n",
    "\n",
    "# create array from data\n",
    "A = np.array(A).squeeze()\n",
    "# check the shape of the array, each image is a column\n",
    "print('A Shape:',A.transpose().shape)\n",
    "A = A.transpose()"
   ]
  },
  {
   "cell_type": "markdown",
   "metadata": {},
   "source": [
    "Create a square correlation matrix:"
   ]
  },
  {
   "cell_type": "code",
   "execution_count": 158,
   "metadata": {},
   "outputs": [],
   "source": [
    "Acorr = pd.DataFrame(A).corr()"
   ]
  },
  {
   "cell_type": "code",
   "execution_count": 159,
   "metadata": {},
   "outputs": [
    {
     "data": {
      "text/plain": [
       "(272, 272)"
      ]
     },
     "execution_count": 159,
     "metadata": {},
     "output_type": "execute_result"
    }
   ],
   "source": [
    "Acorr.shape"
   ]
  },
  {
   "cell_type": "markdown",
   "metadata": {},
   "source": [
    "Define power iteration:"
   ]
  },
  {
   "cell_type": "code",
   "execution_count": 160,
   "metadata": {},
   "outputs": [],
   "source": [
    "def power_iteration_clean(A, iterations):\n",
    "    \n",
    "    '''Finds the largest eigenvalue of matrix A.'''\n",
    "    \n",
    "    w_true,v_true = np.linalg.eig(A)\n",
    "    w0_true = w_true[np.argmax(np.abs(w_true))]\n",
    "    \n",
    "    # first guess at eigenvector\n",
    "    b = np.random.randn(A.shape[1])\n",
    "    b = b / norm(b)\n",
    "    \n",
    "    # power iterate\n",
    "    for i in np.arange(0,iterations,1):\n",
    "        b = A@b / np.linalg.norm(A@b)\n",
    "        \n",
    "        # use rayleigh quotient to compute eigenvalue\n",
    "        w = b.T.conjugate()@A@b/(b.T.conjugate()@b)\n",
    "        \n",
    "    return w,b"
   ]
  },
  {
   "cell_type": "code",
   "execution_count": 161,
   "metadata": {},
   "outputs": [],
   "source": [
    "w,b = power_iteration_clean(np.array(Acorr), 10)"
   ]
  },
  {
   "cell_type": "code",
   "execution_count": 162,
   "metadata": {},
   "outputs": [],
   "source": [
    "u,s,v = np.linalg.svd(Acorr)"
   ]
  },
  {
   "cell_type": "code",
   "execution_count": 163,
   "metadata": {},
   "outputs": [
    {
     "data": {
      "image/png": "[encoded data removed]",
      "text/plain": [
       "<Figure size 720x432 with 1 Axes>"
      ]
     },
     "metadata": {
      "needs_background": "light"
     },
     "output_type": "display_data"
    }
   ],
   "source": [
    "plt.figure(figsize=[10,6])\n",
    "plt.stem(np.arange(0,s.shape[0],1),s)\n",
    "plt.xlim(-1,50);\n",
    "plt.title('SVD Modes'); plt.ylabel('Singular Values')\n",
    "plt.xlabel('Singular Value index');"
   ]
  },
  {
   "cell_type": "markdown",
   "metadata": {},
   "source": [
    "leading singular value:"
   ]
  },
  {
   "cell_type": "code",
   "execution_count": 164,
   "metadata": {},
   "outputs": [
    {
     "data": {
      "text/plain": [
       "90.36480489964875"
      ]
     },
     "execution_count": 164,
     "metadata": {},
     "output_type": "execute_result"
    }
   ],
   "source": [
    "s[0]"
   ]
  },
  {
   "cell_type": "markdown",
   "metadata": {},
   "source": [
    "largest eigenvalue:"
   ]
  },
  {
   "cell_type": "code",
   "execution_count": 165,
   "metadata": {},
   "outputs": [
    {
     "data": {
      "text/plain": [
       "90.36278433841416"
      ]
     },
     "execution_count": 165,
     "metadata": {},
     "output_type": "execute_result"
    }
   ],
   "source": [
    "w"
   ]
  },
  {
   "cell_type": "markdown",
   "metadata": {},
   "source": [
    "Nearly identical largest singular value and eigenvalue for square correlation matrix of image dataset."
   ]
  },
  {
   "cell_type": "markdown",
   "metadata": {},
   "source": [
    "# 2(b)"
   ]
  },
  {
   "cell_type": "code",
   "execution_count": 166,
   "metadata": {},
   "outputs": [],
   "source": [
    "def randomized_svd(A,p,iterations=3):\n",
    "    \n",
    "    '''compute randomized SVD.'''\n",
    "    \n",
    "    P = np.random.randn(A.shape[1],p)\n",
    "    \n",
    "    # Multiply A by Random matrix P\n",
    "    Z = A@P\n",
    "    \n",
    "    # Power Iterations\n",
    "    for i in np.arange(0,iterations,1):\n",
    "        Z = A@(A.T@Z)\n",
    "        \n",
    "    # QR Decomp - get orthogonal bases for Z\n",
    "    Q,R = np.linalg.qr(Z)\n",
    "    \n",
    "    # Changes Bases\n",
    "    Z = Q.T@A\n",
    "\n",
    "    u,s,v = np.linalg.svd(Z, full_matrices=False)\n",
    "    # project Q into u\n",
    "    u = Q@u\n",
    "    \n",
    "    return u,s,v"
   ]
  },
  {
   "cell_type": "markdown",
   "metadata": {},
   "source": [
    "10 randomized vectors in P, then projecting A into P, then recreating SVD with rSVD."
   ]
  },
  {
   "cell_type": "code",
   "execution_count": 167,
   "metadata": {},
   "outputs": [
    {
     "name": "stdout",
     "output_type": "stream",
     "text": [
      "2.17 ms ± 33.9 µs per loop (mean ± std. dev. of 7 runs, 100 loops each)\n"
     ]
    }
   ],
   "source": [
    "%%timeit\n",
    "randomized_svd(Acorr, 10)"
   ]
  },
  {
   "cell_type": "code",
   "execution_count": 168,
   "metadata": {},
   "outputs": [
    {
     "name": "stdout",
     "output_type": "stream",
     "text": [
      "7.72 ms ± 174 µs per loop (mean ± std. dev. of 7 runs, 100 loops each)\n"
     ]
    }
   ],
   "source": [
    "%%timeit\n",
    "np.linalg.svd(Acorr, 10)"
   ]
  },
  {
   "cell_type": "code",
   "execution_count": 169,
   "metadata": {},
   "outputs": [],
   "source": [
    "ru,rs,rv = randomized_svd(Acorr,10,2)"
   ]
  },
  {
   "cell_type": "code",
   "execution_count": 170,
   "metadata": {
    "scrolled": true
   },
   "outputs": [
    {
     "data": {
      "text/plain": [
       "(272, 10)"
      ]
     },
     "execution_count": 170,
     "metadata": {},
     "output_type": "execute_result"
    }
   ],
   "source": [
    "ru.shape"
   ]
  },
  {
   "cell_type": "code",
   "execution_count": 171,
   "metadata": {},
   "outputs": [
    {
     "data": {
      "text/plain": [
       "(10,)"
      ]
     },
     "execution_count": 171,
     "metadata": {},
     "output_type": "execute_result"
    }
   ],
   "source": [
    "rs.shape"
   ]
  },
  {
   "cell_type": "code",
   "execution_count": 172,
   "metadata": {},
   "outputs": [
    {
     "data": {
      "text/plain": [
       "(10, 272)"
      ]
     },
     "execution_count": 172,
     "metadata": {},
     "output_type": "execute_result"
    }
   ],
   "source": [
    "rv.shape"
   ]
  },
  {
   "cell_type": "code",
   "execution_count": 173,
   "metadata": {
    "scrolled": false
   },
   "outputs": [
    {
     "data": {
      "image/png": "[encoded data removed]",
      "text/plain": [
       "<Figure size 720x432 with 1 Axes>"
      ]
     },
     "metadata": {
      "needs_background": "light"
     },
     "output_type": "display_data"
    }
   ],
   "source": [
    "plt.figure(figsize=[10,6])\n",
    "plt.stem(np.arange(0,rs.shape[0],1),rs)\n",
    "plt.xlim(-1,50);\n",
    "plt.title('SVD Leading Modes'); plt.ylabel('Singular Value over Sum of Singular Values')\n",
    "plt.xlabel('Singular Value index');"
   ]
  },
  {
   "cell_type": "markdown",
   "metadata": {},
   "source": [
    "# 2(c)"
   ]
  },
  {
   "cell_type": "markdown",
   "metadata": {},
   "source": [
    "comparing randomized modes to true modes"
   ]
  },
  {
   "cell_type": "code",
   "execution_count": 174,
   "metadata": {},
   "outputs": [
    {
     "data": {
      "image/png": "[encoded data removed]",
      "text/plain": [
       "<Figure size 720x432 with 1 Axes>"
      ]
     },
     "metadata": {
      "needs_background": "light"
     },
     "output_type": "display_data"
    }
   ],
   "source": [
    "plt.figure(figsize=[10,6])\n",
    "for i in np.arange(0,6,1):\n",
    "    ru,rs,rv = randomized_svd(Acorr,10,i)\n",
    "    plt.plot(np.abs(s[:10]-rs) / s[:10], label=str(i)+' power iterations', ls='--', marker='o')\n",
    "plt.ylabel('% difference between true and randomized mode \\n (error)'); plt.legend()\n",
    "plt.xlabel('Mode (in order of decreasing singular value)')\n",
    "plt.title('Comparing Randomized to True Modes');"
   ]
  },
  {
   "cell_type": "markdown",
   "metadata": {},
   "source": [
    "With more power iterations (expensive computuationally) accuracy of the rSVD improves. Regardless of power iterations, in this case, the first few modes are very close to the true modes."
   ]
  },
  {
   "cell_type": "code",
   "execution_count": 175,
   "metadata": {},
   "outputs": [],
   "source": [
    "Bcorr=Acorr.copy()"
   ]
  },
  {
   "cell_type": "code",
   "execution_count": 182,
   "metadata": {},
   "outputs": [
    {
     "data": {
      "image/png": "[encoded data removed]",
      "text/plain": [
       "<Figure size 720x432 with 1 Axes>"
      ]
     },
     "metadata": {
      "needs_background": "light"
     },
     "output_type": "display_data"
    }
   ],
   "source": [
    "plt.figure(figsize=[10,6])\n",
    "U,S,V = np.linalg.svd(Acorr,full_matrices=False)\n",
    "Y=Bcorr\n",
    "S=S/S[0]\n",
    "Bcorr=U@np.diag(S)@V\n",
    "plt.plot(S, label='0 powr iterations')\n",
    "# power iterationsb\n",
    "for q in np.arange(1,6,1):\n",
    "    Y=Bcorr.T@Y\n",
    "    Y=Bcorr@Y\n",
    "    Uq,Sq,VTq = np.linalg.svd(Y, full_matrices=False)\n",
    "    plt.plot(Sq, label=str(q)+' power iterations')\n",
    "plt.yscale('log'); plt.legend()\n",
    "plt.title('Singular value decay of 0 to 5 power iterations');\n",
    "plt.ylabel('Singular Value Magnitude'); plt.xlabel('Singular Value');"
   ]
  },
  {
   "cell_type": "markdown",
   "metadata": {},
   "source": [
    "Singular values of the matrix already decay quite quickly, so I have put it on a log plot above. I also used a trick found in Steve Brunton's SVD lectures to scale the singular values between 0 and 1 to make a more readable plot demonstrating the increased falloff in singular value decay as you power iterate."
   ]
  }
 ],
 "metadata": {
  "kernelspec": {
   "display_name": "Python 3",
   "language": "python",
   "name": "python3"
  },
  "language_info": {
   "codemirror_mode": {
    "name": "ipython",
    "version": 3
   },
   "file_extension": ".py",
   "mimetype": "text/x-python",
   "name": "python",
   "nbconvert_exporter": "python",
   "pygments_lexer": "ipython3",
   "version": "3.7.9"
  }
 },
 "nbformat": 4,
 "nbformat_minor": 4
}
