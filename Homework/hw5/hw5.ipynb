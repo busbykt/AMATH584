{
 "cells": [
  {
   "cell_type": "code",
   "execution_count": 126,
   "metadata": {},
   "outputs": [],
   "source": [
    "import numpy as np\n",
    "import matplotlib.pyplot as plt\n",
    "import scipy as sp\n",
    "import os\n",
    "import seaborn as sns\n",
    "from numpy.linalg import norm\n",
    "from numpy.linalg import inv\n",
    "import pandas as pd"
   ]
  },
  {
   "cell_type": "markdown",
   "metadata": {},
   "source": [
    "# 1(a)"
   ]
  },
  {
   "cell_type": "code",
   "execution_count": 127,
   "metadata": {},
   "outputs": [],
   "source": [
    "# square dimension\n",
    "m=10\n",
    "\n",
    "# generate mxm symmetric matrix\n",
    "A = np.random.randn(m,m)\n",
    "A = (A+A.T)/2"
   ]
  },
  {
   "cell_type": "code",
   "execution_count": 128,
   "metadata": {},
   "outputs": [
    {
     "data": {
      "text/plain": [
       "<matplotlib.image.AxesImage at 0x1a6c2bfcdc8>"
      ]
     },
     "execution_count": 128,
     "metadata": {},
     "output_type": "execute_result"
    },
    {
     "data": {
      "image/png": "[encoded data removed]",
      "text/plain": [
       "<Figure size 288x288 with 1 Axes>"
      ]
     },
     "metadata": {
      "needs_background": "light"
     },
     "output_type": "display_data"
    }
   ],
   "source": [
    "# visualize the symmetric matrix\n",
    "plt.matshow(A)"
   ]
  },
  {
   "cell_type": "code",
   "execution_count": 129,
   "metadata": {},
   "outputs": [
    {
     "data": {
      "text/plain": [
       "0.04721463970789054"
      ]
     },
     "execution_count": 129,
     "metadata": {},
     "output_type": "execute_result"
    }
   ],
   "source": [
    "# check the determinant\n",
    "np.linalg.det(A)"
   ]
  },
  {
   "cell_type": "code",
   "execution_count": 130,
   "metadata": {},
   "outputs": [],
   "source": [
    "# calculate eigenvalues and eigenvectors\n",
    "w_true,v_true = np.linalg.eig(A)"
   ]
  },
  {
   "cell_type": "code",
   "execution_count": 131,
   "metadata": {},
   "outputs": [
    {
     "data": {
      "text/plain": [
       "array([ 4.67139349e+00,  2.39119104e+00,  1.90972055e+00, -3.48950115e+00,\n",
       "       -2.76525108e+00,  1.90357704e-01, -5.08326229e-04, -1.72776796e+00,\n",
       "       -1.42584277e+00, -9.62228433e-01])"
      ]
     },
     "execution_count": 131,
     "metadata": {},
     "output_type": "execute_result"
    }
   ],
   "source": [
    "#show the ground truth eigenvectors\n",
    "w_true"
   ]
  },
  {
   "cell_type": "markdown",
   "metadata": {},
   "source": [
    "# 1(b)"
   ]
  },
  {
   "cell_type": "code",
   "execution_count": 132,
   "metadata": {},
   "outputs": [],
   "source": [
    "def power_iteration(A, iterations):\n",
    "    \n",
    "    '''Finds the largest eigenvalue of matrix A.'''\n",
    "    \n",
    "    w_true,v_true = np.linalg.eig(A)\n",
    "    w0_true = w_true[np.argmax(np.abs(w_true))]\n",
    "    \n",
    "    # set up plot\n",
    "    plt.figure(figsize=[10,6])\n",
    "    \n",
    "    # first guess at eigenvector\n",
    "    b = np.random.randn(A.shape[1])\n",
    "    b = b / norm(b)\n",
    "    \n",
    "    # power iterate\n",
    "    for i in np.arange(0,iterations,1):\n",
    "        b = A@b / np.linalg.norm(A@b)\n",
    "        \n",
    "        # use rayleigh quotient to compute eigenvalue\n",
    "        w = b.T.conjugate()@A@b/(b.T.conjugate()@b)\n",
    "        \n",
    "        #plot eigenvalue approaching true eigenvalue\n",
    "        plt.scatter(i,np.abs(w0_true-w), c='C0', alpha=.3)\n",
    "        if i == iterations-1:\n",
    "            plt.scatter(i,np.abs(w0_true-w), c='C0')\n",
    "            \n",
    "    plt.title('Power Iteration - Largest Eigenvalue Error')\n",
    "    plt.yscale('log');\n",
    "    plt.ylabel('Absolute Error \\n (Log Scale)'); plt.xlabel('Iterations');\n",
    "    \n",
    "    return w,b"
   ]
  },
  {
   "cell_type": "code",
   "execution_count": 133,
   "metadata": {},
   "outputs": [
    {
     "data": {
      "image/png": "[encoded data removed]",
      "text/plain": [
       "<Figure size 720x432 with 1 Axes>"
      ]
     },
     "metadata": {
      "needs_background": "light"
     },
     "output_type": "display_data"
    }
   ],
   "source": [
    "w,b = power_iteration(A, iterations=100)"
   ]
  },
  {
   "cell_type": "markdown",
   "metadata": {},
   "source": [
    "Error in the iteration method drops exponentially as seen in the Log-Linear plot above, until settling around $ 10^{-14} $. Likely no longer dropping due to roundoff at floating point precision."
   ]
  },
  {
   "cell_type": "code",
   "execution_count": 134,
   "metadata": {},
   "outputs": [
    {
     "data": {
      "text/plain": [
       "4.671393494423709"
      ]
     },
     "execution_count": 134,
     "metadata": {},
     "output_type": "execute_result"
    }
   ],
   "source": [
    "# ground truth biggest eigenvalue\n",
    "w_true[np.argmax(np.abs(w_true))]"
   ]
  },
  {
   "cell_type": "code",
   "execution_count": 135,
   "metadata": {},
   "outputs": [
    {
     "data": {
      "text/plain": [
       "4.671393494423706"
      ]
     },
     "execution_count": 135,
     "metadata": {},
     "output_type": "execute_result"
    }
   ],
   "source": [
    "# power iteration biggest eigenvalue\n",
    "w"
   ]
  },
  {
   "cell_type": "markdown",
   "metadata": {},
   "source": [
    "# 1(c)"
   ]
  },
  {
   "cell_type": "code",
   "execution_count": 136,
   "metadata": {},
   "outputs": [],
   "source": [
    "def rayleigh_quotient_iteration(A, iterations=10):\n",
    "    \n",
    "    '''Finds the eigenvalues of matrix A.'''\n",
    "    \n",
    "    w_true,v_true = np.linalg.eig(A)\n",
    "    w0_true = w_true[np.argmax(np.abs(w_true))]\n",
    "    \n",
    "    # first guess at eigenvector\n",
    "    b = np.random.rand(A.shape[0])\n",
    "    b = b / norm(b)\n",
    "\n",
    "    q,r = np.linalg.qr(A)\n",
    "    \n",
    "    # first guess at eigenvalue\n",
    "    w = b.T.conjugate()@A@b/(b.T.conjugate()@b)\n",
    "\n",
    "    # Rayleigh Quotient iteration\n",
    "    for i in np.arange(0,iterations,1):\n",
    "\n",
    "        b = inv((A - w*np.identity(A.shape[0])))@b / norm(inv((A - w*np.identity(A.shape[0])))@b)\n",
    "        w = b.T.conjugate()@A@b/(b.T.conjugate()@b)\n",
    "\n",
    "    return w,b"
   ]
  },
  {
   "cell_type": "code",
   "execution_count": 137,
   "metadata": {},
   "outputs": [],
   "source": [
    "w,b = rayleigh_quotient_iteration(A)"
   ]
  },
  {
   "cell_type": "code",
   "execution_count": 138,
   "metadata": {},
   "outputs": [],
   "source": [
    "w0_true = w_true[min(range(len(w_true)), key=lambda j: abs(w_true[j]-w))]"
   ]
  },
  {
   "cell_type": "code",
   "execution_count": 139,
   "metadata": {},
   "outputs": [
    {
     "data": {
      "text/plain": [
       "1.9097205515507327"
      ]
     },
     "execution_count": 139,
     "metadata": {},
     "output_type": "execute_result"
    }
   ],
   "source": [
    "w"
   ]
  },
  {
   "cell_type": "code",
   "execution_count": 140,
   "metadata": {},
   "outputs": [
    {
     "data": {
      "text/plain": [
       "1.909720551550734"
      ]
     },
     "execution_count": 140,
     "metadata": {},
     "output_type": "execute_result"
    }
   ],
   "source": [
    "w0_true"
   ]
  },
  {
   "cell_type": "markdown",
   "metadata": {},
   "source": [
    "Simply guessing at the eigenvectors and performing Rayleigh Quotient Iteration converges cubically to a single eigenvalue and vector. This does not give all 10 eigenvalues, and randomly guessing until all 10 are found would be inefficient.\n",
    "\n",
    "I will have to improve the inital guesses to improve the convergance. I have found that the algorithm to rayleigh quotient iteration for finding all eigenvalues is called the subspace iteration.\n",
    "\n",
    "This algorithm subtracts the components of all other eigenvectors before performing the QR and performing the rayleigh quotient iteration process. This causes the algorithm to converge to each eigenvalue one after another."
   ]
  },
  {
   "cell_type": "code",
   "execution_count": 141,
   "metadata": {},
   "outputs": [],
   "source": [
    "def subspace_iteration(A, iterations=20):\n",
    "    \n",
    "    '''Finds the eigenvalues of matrix A, using subspace iteration including rayleigh quotient iteration within.'''\n",
    "    \n",
    "    w_found = []\n",
    "    b_found = []\n",
    "    \n",
    "    for j in np.arange(0,len(w_true),1):\n",
    "        # guess at eigenvector\n",
    "        if j>0:\n",
    "            b = np.random.rand(A.shape[0])\n",
    "            for b_ in b_found:\n",
    "                b = b_.T.conjugate()@np.outer(b,b_) - b\n",
    "            b = b / norm(b)\n",
    "        else:\n",
    "            b = np.random.rand(A.shape[0])\n",
    "            b = b / norm(b)\n",
    "            \n",
    "        q,r = np.linalg.qr(A)\n",
    "\n",
    "        # first guess at eigenvalue\n",
    "        w = b.T.conjugate()@A@b/(b.T.conjugate()@b)\n",
    "\n",
    "        # Rayleigh Quotient iteration\n",
    "        for i in np.arange(0,iterations,1):\n",
    "\n",
    "            b = inv((A - w*np.identity(A.shape[0])))@b / norm(inv((A - w*np.identity(A.shape[0])))@b)\n",
    "            w = b.T.conjugate()@A@b/(b.T.conjugate()@b)\n",
    "            \n",
    "        # save eigenvalue/vector\n",
    "        w_found.append(w) \n",
    "        b_found.append(b)\n",
    "    \n",
    "    return w_found,b_found"
   ]
  },
  {
   "cell_type": "markdown",
   "metadata": {},
   "source": [
    "Eigenvalues found by subspace iteration:"
   ]
  },
  {
   "cell_type": "code",
   "execution_count": 142,
   "metadata": {},
   "outputs": [
    {
     "data": {
      "text/plain": [
       "[1.90972,\n",
       " -0.00051,\n",
       " 0.19036,\n",
       " 2.39119,\n",
       " -0.96223,\n",
       " 4.67139,\n",
       " -1.72777,\n",
       " -2.76525,\n",
       " -1.42584,\n",
       " -3.4895]"
      ]
     },
     "execution_count": 142,
     "metadata": {},
     "output_type": "execute_result"
    }
   ],
   "source": [
    "w,b = subspace_iteration(A)\n",
    "np.round(w,5).tolist()"
   ]
  },
  {
   "cell_type": "markdown",
   "metadata": {},
   "source": [
    "Eigenvalues found by numpy \"eig\":"
   ]
  },
  {
   "cell_type": "code",
   "execution_count": 143,
   "metadata": {},
   "outputs": [
    {
     "data": {
      "text/plain": [
       "[4.67139,\n",
       " 2.39119,\n",
       " 1.90972,\n",
       " -3.4895,\n",
       " -2.76525,\n",
       " 0.19036,\n",
       " -0.00051,\n",
       " -1.72777,\n",
       " -1.42584,\n",
       " -0.96223]"
      ]
     },
     "execution_count": 143,
     "metadata": {},
     "output_type": "execute_result"
    }
   ],
   "source": [
    "np.round(w_true,5).tolist()"
   ]
  },
  {
   "cell_type": "markdown",
   "metadata": {},
   "source": [
    "They match!"
   ]
  },
  {
   "cell_type": "markdown",
   "metadata": {},
   "source": [
    "Eigenvectorsfound by subspace iteration:"
   ]
  },
  {
   "cell_type": "code",
   "execution_count": 144,
   "metadata": {},
   "outputs": [
    {
     "data": {
      "text/plain": [
       "[array([-0.33577998, -0.71212232, -0.32312451,  0.37118847, -0.24505839,\n",
       "        -0.13908448,  0.15902619, -0.15402439,  0.07786974,  0.0588951 ]),\n",
       " array([-0.28435605, -0.17015595,  0.54034033,  0.0214749 ,  0.17994294,\n",
       "        -0.49513169, -0.25246799,  0.02588386, -0.01129023, -0.50565539]),\n",
       " array([-0.27046063,  0.02752258, -0.03054694,  0.29384651,  0.31713624,\n",
       "         0.33771512,  0.35237925,  0.66293524, -0.07096076, -0.23558032]),\n",
       " array([ 0.70685884, -0.33652834,  0.30502067,  0.30654123,  0.21249152,\n",
       "         0.17067912,  0.17644751, -0.1241105 ,  0.24611268, -0.13675351]),\n",
       " array([-0.00880472,  0.01971989,  0.34844215, -0.23327272, -0.4762525 ,\n",
       "        -0.00276488,  0.68681612, -0.10573554, -0.30365671, -0.14757247]),\n",
       " array([ 0.33915272, -0.44635541, -0.24031134, -0.51525254, -0.12652106,\n",
       "        -0.06527607, -0.18416617,  0.47913694, -0.21612018, -0.17900196]),\n",
       " array([ 0.31950891,  0.2575983 , -0.2055008 ,  0.37058753, -0.01520643,\n",
       "        -0.70502141,  0.18795682,  0.23915027, -0.20786369,  0.1377575 ]),\n",
       " array([-0.1007339 , -0.09270013,  0.29180473, -0.25136304, -0.03081844,\n",
       "        -0.21074135,  0.17996315,  0.35725744,  0.61519923,  0.49907374]),\n",
       " array([-0.06088173, -0.07128168, -0.29654308, -0.39964847,  0.65212612,\n",
       "        -0.20624522,  0.41859874, -0.30845022,  0.02975408, -0.06706953]),\n",
       " array([-0.0505286 , -0.26507854,  0.33937046,  0.03613756,  0.30424557,\n",
       "         0.063596  , -0.08421858, -0.0006957 , -0.60557734,  0.58333096])]"
      ]
     },
     "execution_count": 144,
     "metadata": {},
     "output_type": "execute_result"
    }
   ],
   "source": [
    "b"
   ]
  },
  {
   "cell_type": "markdown",
   "metadata": {},
   "source": [
    "Eigenvectors found by numpy \"eig\":"
   ]
  },
  {
   "cell_type": "code",
   "execution_count": 145,
   "metadata": {},
   "outputs": [
    {
     "data": {
      "text/plain": [
       "array([[ 3.39152716e-01, -4.46355414e-01, -2.40311337e-01,\n",
       "        -5.15252540e-01, -1.26521056e-01, -6.52760672e-02,\n",
       "        -1.84166166e-01,  4.79136940e-01, -2.16120180e-01,\n",
       "        -1.79001961e-01],\n",
       "       [-7.06858838e-01,  3.36528344e-01, -3.05020671e-01,\n",
       "        -3.06541232e-01, -2.12491522e-01, -1.70679124e-01,\n",
       "        -1.76447511e-01,  1.24110497e-01, -2.46112676e-01,\n",
       "         1.36753506e-01],\n",
       "       [-3.35779981e-01, -7.12122319e-01, -3.23124511e-01,\n",
       "         3.71188465e-01, -2.45058395e-01, -1.39084484e-01,\n",
       "         1.59026191e-01, -1.54024392e-01,  7.78697374e-02,\n",
       "         5.88950965e-02],\n",
       "       [-5.05285965e-02, -2.65078540e-01,  3.39370462e-01,\n",
       "         3.61375646e-02,  3.04245567e-01,  6.35959986e-02,\n",
       "        -8.42185811e-02, -6.95695477e-04, -6.05577341e-01,\n",
       "         5.83330961e-01],\n",
       "       [-1.00733903e-01, -9.27001278e-02,  2.91804729e-01,\n",
       "        -2.51363037e-01, -3.08184377e-02, -2.10741353e-01,\n",
       "         1.79963148e-01,  3.57257436e-01,  6.15199230e-01,\n",
       "         4.99073736e-01],\n",
       "       [-2.70460630e-01,  2.75225795e-02, -3.05469357e-02,\n",
       "         2.93846505e-01,  3.17136236e-01,  3.37715116e-01,\n",
       "         3.52379245e-01,  6.62935239e-01, -7.09607627e-02,\n",
       "        -2.35580318e-01],\n",
       "       [ 2.84356052e-01,  1.70155947e-01, -5.40340326e-01,\n",
       "        -2.14749050e-02, -1.79942936e-01,  4.95131689e-01,\n",
       "         2.52467992e-01, -2.58838551e-02,  1.12902317e-02,\n",
       "         5.05655387e-01],\n",
       "       [ 3.19508905e-01,  2.57598303e-01, -2.05500798e-01,\n",
       "         3.70587530e-01, -1.52064322e-02, -7.05021407e-01,\n",
       "         1.87956816e-01,  2.39150275e-01, -2.07863686e-01,\n",
       "         1.37757496e-01],\n",
       "       [ 6.08817265e-02,  7.12816751e-02,  2.96543082e-01,\n",
       "         3.99648466e-01, -6.52126124e-01,  2.06245221e-01,\n",
       "        -4.18598735e-01,  3.08450224e-01, -2.97540840e-02,\n",
       "         6.70695305e-02],\n",
       "       [-8.80472012e-03,  1.97198882e-02,  3.48442148e-01,\n",
       "        -2.33272722e-01, -4.76252504e-01, -2.76488120e-03,\n",
       "         6.86816118e-01, -1.05735541e-01, -3.03656710e-01,\n",
       "        -1.47572471e-01]])"
      ]
     },
     "execution_count": 145,
     "metadata": {},
     "output_type": "execute_result"
    }
   ],
   "source": [
    "v_true.T"
   ]
  },
  {
   "cell_type": "markdown",
   "metadata": {},
   "source": [
    "# 1(d)"
   ]
  },
  {
   "cell_type": "code",
   "execution_count": 146,
   "metadata": {},
   "outputs": [],
   "source": [
    "A = np.random.randn(m,m)"
   ]
  },
  {
   "cell_type": "code",
   "execution_count": 147,
   "metadata": {},
   "outputs": [
    {
     "data": {
      "image/png": "[encoded data removed]",
      "text/plain": [
       "<Figure size 720x432 with 1 Axes>"
      ]
     },
     "metadata": {
      "needs_background": "light"
     },
     "output_type": "display_data"
    }
   ],
   "source": [
    "w,b = power_iteration(A, iterations=20)"
   ]
  },
  {
   "cell_type": "code",
   "execution_count": 148,
   "metadata": {},
   "outputs": [],
   "source": [
    "w_true,v_true = np.linalg.eig(A)"
   ]
  },
  {
   "cell_type": "markdown",
   "metadata": {},
   "source": [
    "the algorithm does not converge to a good estimate of the largest eigenvalue."
   ]
  },
  {
   "cell_type": "code",
   "execution_count": 149,
   "metadata": {},
   "outputs": [
    {
     "data": {
      "text/plain": [
       "array([ 2.11919493+1.28258425j,  2.11919493-1.28258425j,\n",
       "       -2.63914578+0.67820939j, -2.63914578-0.67820939j,\n",
       "        0.41902606+1.80061635j,  0.41902606-1.80061635j,\n",
       "       -1.41678069+1.1726728j , -1.41678069-1.1726728j ,\n",
       "        0.83176459+0.j        , -0.05610292+0.j        ])"
      ]
     },
     "execution_count": 149,
     "metadata": {},
     "output_type": "execute_result"
    }
   ],
   "source": [
    "# ground truth eigenvectors\n",
    "w_true"
   ]
  },
  {
   "cell_type": "code",
   "execution_count": 150,
   "metadata": {},
   "outputs": [
    {
     "data": {
      "text/plain": [
       "-2.663538302977425"
      ]
     },
     "execution_count": 150,
     "metadata": {},
     "output_type": "execute_result"
    }
   ],
   "source": [
    "# largest eigenvalue found by power iteration\n",
    "w"
   ]
  },
  {
   "cell_type": "code",
   "execution_count": 151,
   "metadata": {},
   "outputs": [
    {
     "data": {
      "image/png": "[encoded data removed]",
      "text/plain": [
       "<Figure size 720x432 with 1 Axes>"
      ]
     },
     "metadata": {
      "needs_background": "light"
     },
     "output_type": "display_data"
    }
   ],
   "source": [
    "plt.figure(figsize=[10,6])\n",
    "X = [x.real for x in w_true]\n",
    "Y = [x.imag for x in w_true]\n",
    "plt.scatter(X,Y, label='Actual')\n",
    "plt.scatter(w,0, label='power iteration estimate of largest')\n",
    "plt.legend(); plt.title('Complex plane Ground Truth Eigenvalues and PI Estimate of Largest Eigenvalue')\n",
    "plt.xlabel('Real'); plt.ylabel('Complex');\n",
    "plt.grid()\n",
    "plt.show()"
   ]
  },
  {
   "cell_type": "markdown",
   "metadata": {},
   "source": [
    "Subspace iterating to find all:"
   ]
  },
  {
   "cell_type": "code",
   "execution_count": 98,
   "metadata": {},
   "outputs": [],
   "source": [
    "w,b = subspace_iteration(A)"
   ]
  },
  {
   "cell_type": "code",
   "execution_count": 99,
   "metadata": {
    "scrolled": false
   },
   "outputs": [
    {
     "data": {
      "image/png": "[encoded data removed]",
      "text/plain": [
       "<Figure size 720x432 with 1 Axes>"
      ]
     },
     "metadata": {
      "needs_background": "light"
     },
     "output_type": "display_data"
    }
   ],
   "source": [
    "plt.figure(figsize=[10,6])\n",
    "X = [x.real for x in w_true]\n",
    "Y = [x.imag for x in w_true]\n",
    "plt.scatter(X,Y, label='Actual')\n",
    "plt.scatter(w,[0]*len(w), label='subspace iterations')\n",
    "plt.legend(); plt.title('Complex plane Eigenvalues and Subspace iteration estimates')\n",
    "plt.xlabel('Real'); plt.ylabel('Complex');\n",
    "plt.grid()\n",
    "plt.show()"
   ]
  },
  {
   "cell_type": "markdown",
   "metadata": {},
   "source": [
    "The iterative technique fails to find the eigenvalues."
   ]
  },
  {
   "cell_type": "markdown",
   "metadata": {},
   "source": [
    "# 2(a)"
   ]
  },
  {
   "cell_type": "code",
   "execution_count": 100,
   "metadata": {},
   "outputs": [
    {
     "name": "stdout",
     "output_type": "stream",
     "text": [
      "number of images: 272\n"
     ]
    }
   ],
   "source": [
    "# Iterate through the cropped images folder finding all files\n",
    "filelist=[]\n",
    "for root, dirs, files in os.walk('C:\\\\Users\\\\Kelton\\\\UW\\\\AMATH584\\\\Homework\\\\hw2\\\\yalefaces_cropped'):\n",
    "    for file in files:\n",
    "        #append the file name to the list\n",
    "        filelist.append(os.path.join(root,file))\n",
    "        \n",
    "print('number of images:',len(filelist))"
   ]
  },
  {
   "cell_type": "code",
   "execution_count": 101,
   "metadata": {},
   "outputs": [],
   "source": [
    "# Build a list of images from the files\n",
    "images=[]\n",
    "for imgfile in filelist:\n",
    "    images.append(plt.imread(imgfile))"
   ]
  },
  {
   "cell_type": "code",
   "execution_count": 102,
   "metadata": {},
   "outputs": [
    {
     "name": "stdout",
     "output_type": "stream",
     "text": [
      "A Shape: (32256, 272)\n"
     ]
    }
   ],
   "source": [
    "# create a list of all array data from the images\n",
    "A = []\n",
    "for image in images:\n",
    "    A.append(np.reshape(image,(-1,1)))\n",
    "\n",
    "# create array from data\n",
    "A = np.array(A).squeeze()\n",
    "# check the shape of the array, each image is a column\n",
    "print('A Shape:',A.transpose().shape)\n",
    "A = A.transpose()"
   ]
  },
  {
   "cell_type": "markdown",
   "metadata": {},
   "source": [
    "Create a square correlation matrix:"
   ]
  },
  {
   "cell_type": "code",
   "execution_count": 103,
   "metadata": {},
   "outputs": [],
   "source": [
    "Acorr = pd.DataFrame(A).corr()"
   ]
  },
  {
   "cell_type": "code",
   "execution_count": 104,
   "metadata": {},
   "outputs": [
    {
     "data": {
      "text/plain": [
       "(272, 272)"
      ]
     },
     "execution_count": 104,
     "metadata": {},
     "output_type": "execute_result"
    }
   ],
   "source": [
    "Acorr.shape"
   ]
  },
  {
   "cell_type": "markdown",
   "metadata": {},
   "source": [
    "Define power iteration:"
   ]
  },
  {
   "cell_type": "code",
   "execution_count": 105,
   "metadata": {},
   "outputs": [],
   "source": [
    "def power_iteration_clean(A, iterations):\n",
    "    \n",
    "    '''Finds the largest eigenvalue of matrix A.'''\n",
    "    \n",
    "    w_true,v_true = np.linalg.eig(A)\n",
    "    w0_true = w_true[np.argmax(np.abs(w_true))]\n",
    "    \n",
    "    # first guess at eigenvector\n",
    "    b = np.random.randn(A.shape[1])\n",
    "    b = b / norm(b)\n",
    "    \n",
    "    # power iterate\n",
    "    for i in np.arange(0,iterations,1):\n",
    "        b = A@b / np.linalg.norm(A@b)\n",
    "        \n",
    "        # use rayleigh quotient to compute eigenvalue\n",
    "        w = b.T.conjugate()@A@b/(b.T.conjugate()@b)\n",
    "        \n",
    "    return w,b"
   ]
  },
  {
   "cell_type": "code",
   "execution_count": 106,
   "metadata": {},
   "outputs": [],
   "source": [
    "w,b = power_iteration_clean(np.array(Acorr), 10)"
   ]
  },
  {
   "cell_type": "code",
   "execution_count": 107,
   "metadata": {},
   "outputs": [],
   "source": [
    "u,s,v = np.linalg.svd(Acorr)"
   ]
  },
  {
   "cell_type": "code",
   "execution_count": 108,
   "metadata": {},
   "outputs": [
    {
     "data": {
      "image/png": "[encoded data removed]",
      "text/plain": [
       "<Figure size 720x432 with 1 Axes>"
      ]
     },
     "metadata": {
      "needs_background": "light"
     },
     "output_type": "display_data"
    }
   ],
   "source": [
    "plt.figure(figsize=[10,6])\n",
    "plt.stem(np.arange(0,s.shape[0],1),s)\n",
    "plt.xlim(-1,50);\n",
    "plt.title('SVD Modes'); plt.ylabel('Singular Values')\n",
    "plt.xlabel('Singular Value index');"
   ]
  },
  {
   "cell_type": "markdown",
   "metadata": {},
   "source": [
    "leading singular value:"
   ]
  },
  {
   "cell_type": "code",
   "execution_count": 109,
   "metadata": {},
   "outputs": [
    {
     "data": {
      "text/plain": [
       "90.36480489964875"
      ]
     },
     "execution_count": 109,
     "metadata": {},
     "output_type": "execute_result"
    }
   ],
   "source": [
    "s[0]"
   ]
  },
  {
   "cell_type": "markdown",
   "metadata": {},
   "source": [
    "largest eigenvalue:"
   ]
  },
  {
   "cell_type": "code",
   "execution_count": 110,
   "metadata": {},
   "outputs": [
    {
     "data": {
      "text/plain": [
       "90.36478003947246"
      ]
     },
     "execution_count": 110,
     "metadata": {},
     "output_type": "execute_result"
    }
   ],
   "source": [
    "w"
   ]
  },
  {
   "cell_type": "markdown",
   "metadata": {},
   "source": [
    "Nearly identical largest singular value and eigenvalue for square correlation matrix of image dataset."
   ]
  },
  {
   "cell_type": "markdown",
   "metadata": {},
   "source": [
    "# 2(b)"
   ]
  },
  {
   "cell_type": "code",
   "execution_count": 111,
   "metadata": {},
   "outputs": [],
   "source": [
    "def randomized_svd(A,p,iterations=3):\n",
    "    \n",
    "    '''compute randomized SVD.'''\n",
    "    \n",
    "    P = np.random.randn(A.shape[1],p)\n",
    "    \n",
    "    # Multiply A by Random matrix P\n",
    "    Z = A@P\n",
    "    \n",
    "    # Power Iterations\n",
    "    for i in np.arange(0,iterations,1):\n",
    "        Z = A@(A.T@Z)\n",
    "        \n",
    "    # QR Decomp - get orthogonal bases for Z\n",
    "    Q,R = np.linalg.qr(Z)\n",
    "    \n",
    "    # Changes Bases\n",
    "    Z = Q.T@A\n",
    "\n",
    "    u,s,v = np.linalg.svd(Z, full_matrices=False)\n",
    "    # project Q into u\n",
    "    u = Q@u\n",
    "    \n",
    "    return u,s,v"
   ]
  },
  {
   "cell_type": "markdown",
   "metadata": {},
   "source": [
    "10 randomized vectors in P, then projecting A into P, then recreating SVD with rSVD."
   ]
  },
  {
   "cell_type": "code",
   "execution_count": 112,
   "metadata": {},
   "outputs": [
    {
     "name": "stdout",
     "output_type": "stream",
     "text": [
      "2.3 ms ± 84.5 µs per loop (mean ± std. dev. of 7 runs, 100 loops each)\n"
     ]
    }
   ],
   "source": [
    "%%timeit\n",
    "randomized_svd(Acorr, 10)"
   ]
  },
  {
   "cell_type": "code",
   "execution_count": 113,
   "metadata": {},
   "outputs": [
    {
     "name": "stdout",
     "output_type": "stream",
     "text": [
      "8.17 ms ± 122 µs per loop (mean ± std. dev. of 7 runs, 100 loops each)\n"
     ]
    }
   ],
   "source": [
    "%%timeit\n",
    "np.linalg.svd(Acorr, 10)"
   ]
  },
  {
   "cell_type": "code",
   "execution_count": 114,
   "metadata": {},
   "outputs": [],
   "source": [
    "ru,rs,rv = randomized_svd(Acorr,10,2)"
   ]
  },
  {
   "cell_type": "code",
   "execution_count": 115,
   "metadata": {
    "scrolled": true
   },
   "outputs": [
    {
     "data": {
      "text/plain": [
       "(272, 10)"
      ]
     },
     "execution_count": 115,
     "metadata": {},
     "output_type": "execute_result"
    }
   ],
   "source": [
    "ru.shape"
   ]
  },
  {
   "cell_type": "code",
   "execution_count": 116,
   "metadata": {},
   "outputs": [
    {
     "data": {
      "text/plain": [
       "(10,)"
      ]
     },
     "execution_count": 116,
     "metadata": {},
     "output_type": "execute_result"
    }
   ],
   "source": [
    "rs.shape"
   ]
  },
  {
   "cell_type": "code",
   "execution_count": 117,
   "metadata": {},
   "outputs": [
    {
     "data": {
      "text/plain": [
       "(10, 272)"
      ]
     },
     "execution_count": 117,
     "metadata": {},
     "output_type": "execute_result"
    }
   ],
   "source": [
    "rv.shape"
   ]
  },
  {
   "cell_type": "code",
   "execution_count": 118,
   "metadata": {
    "scrolled": false
   },
   "outputs": [
    {
     "data": {
      "image/png": "[encoded data removed]",
      "text/plain": [
       "<Figure size 720x432 with 1 Axes>"
      ]
     },
     "metadata": {
      "needs_background": "light"
     },
     "output_type": "display_data"
    }
   ],
   "source": [
    "plt.figure(figsize=[10,6])\n",
    "plt.stem(np.arange(0,rs.shape[0],1),rs)\n",
    "plt.xlim(-1,50);\n",
    "plt.title('SVD Leading Modes'); plt.ylabel('Singular Value over Sum of Singular Values')\n",
    "plt.xlabel('Singular Value index');"
   ]
  },
  {
   "cell_type": "markdown",
   "metadata": {},
   "source": [
    "# 2(c)"
   ]
  },
  {
   "cell_type": "markdown",
   "metadata": {},
   "source": [
    "comparing randomized modes to true modes"
   ]
  },
  {
   "cell_type": "code",
   "execution_count": 119,
   "metadata": {},
   "outputs": [
    {
     "data": {
      "image/png": "[encoded data removed]",
      "text/plain": [
       "<Figure size 720x432 with 1 Axes>"
      ]
     },
     "metadata": {
      "needs_background": "light"
     },
     "output_type": "display_data"
    }
   ],
   "source": [
    "plt.figure(figsize=[10,6])\n",
    "for i in np.arange(0,6,1):\n",
    "    ru,rs,rv = randomized_svd(Acorr,10,i)\n",
    "    plt.plot(np.abs(s[:10]-rs) / s[:10], label=str(i)+' power iterations', ls='--', marker='o')\n",
    "plt.ylabel('% difference between true and randomized mode \\n (error)'); plt.legend()\n",
    "plt.xlabel('Mode (in order of decreasing singular value)')\n",
    "plt.title('Comparing Randomized to True Modes');"
   ]
  },
  {
   "cell_type": "markdown",
   "metadata": {},
   "source": [
    "With more power iterations (expensive computuationally) accuracy of the rSVD improves. Regardless of power iterations, in this case, the first few modes are very close to the true modes."
   ]
  },
  {
   "cell_type": "code",
   "execution_count": 120,
   "metadata": {},
   "outputs": [],
   "source": [
    "Bcorr=Acorr.copy()"
   ]
  },
  {
   "cell_type": "code",
   "execution_count": 121,
   "metadata": {},
   "outputs": [
    {
     "data": {
      "image/png": "[encoded data removed]",
      "text/plain": [
       "<Figure size 720x432 with 1 Axes>"
      ]
     },
     "metadata": {
      "needs_background": "light"
     },
     "output_type": "display_data"
    }
   ],
   "source": [
    "plt.figure(figsize=[10,6])\n",
    "U,S,V = np.linalg.svd(Acorr,full_matrices=False)\n",
    "Y=Bcorr\n",
    "S=S/S[0]\n",
    "Bcorr=U@np.diag(S)@V\n",
    "plt.plot(S, label='0 powr iterations')\n",
    "# power iterationsb\n",
    "for q in np.arange(1,6,1):\n",
    "    Y=Bcorr.T@Y\n",
    "    Y=Bcorr@Y\n",
    "    Uq,Sq,VTq = np.linalg.svd(Y, full_matrices=False)\n",
    "    plt.plot(Sq, label=str(q)+' power iterations')\n",
    "plt.yscale('log'); plt.legend()\n",
    "plt.title('Singular value decay of 0 to 5 power iterations');\n",
    "plt.ylabel('Singular Value Magnitude'); plt.xlabel('Singular Value');"
   ]
  },
  {
   "cell_type": "markdown",
   "metadata": {},
   "source": [
    "Singular values of the matrix already decay quite quickly, so I have put it on a log plot above. I also used a trick found in Steve Brunton's SVD lectures to scale the singular values between 0 and 1 to make a more readable plot demonstrating the increased falloff in singular value decay as you power iterate."
   ]
  }
 ],
 "metadata": {
  "kernelspec": {
   "display_name": "Python 3",
   "language": "python",
   "name": "python3"
  },
  "language_info": {
   "codemirror_mode": {
    "name": "ipython",
    "version": 3
   },
   "file_extension": ".py",
   "mimetype": "text/x-python",
   "name": "python",
   "nbconvert_exporter": "python",
   "pygments_lexer": "ipython3",
   "version": "3.7.9"
  }
 },
 "nbformat": 4,
 "nbformat_minor": 4
}
