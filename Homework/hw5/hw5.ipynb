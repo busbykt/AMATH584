{
 "cells": [
  {
   "cell_type": "code",
   "execution_count": 179,
   "metadata": {},
   "outputs": [],
   "source": [
    "import numpy as np\n",
    "import matplotlib.pyplot as plt\n",
    "import scipy as sp\n",
    "import os\n",
    "import seaborn as sns\n",
    "from numpy.linalg import norm\n",
    "from numpy.linalg import inv\n",
    "import pandas as pd"
   ]
  },
  {
   "cell_type": "markdown",
   "metadata": {},
   "source": [
    "# 1(a)"
   ]
  },
  {
   "cell_type": "code",
   "execution_count": 180,
   "metadata": {},
   "outputs": [],
   "source": [
    "# square dimension\n",
    "m=10\n",
    "\n",
    "# generate mxm symmetric matrix\n",
    "A = np.random.randn(m,m)\n",
    "A = (A+A.T)/2"
   ]
  },
  {
   "cell_type": "code",
   "execution_count": 181,
   "metadata": {},
   "outputs": [
    {
     "data": {
      "text/plain": [
       "<matplotlib.image.AxesImage at 0x289267bdec8>"
      ]
     },
     "execution_count": 181,
     "metadata": {},
     "output_type": "execute_result"
    },
    {
     "data": {
      "image/png": "[encoded data removed]",
      "text/plain": [
       "<Figure size 288x288 with 1 Axes>"
      ]
     },
     "metadata": {
      "needs_background": "light"
     },
     "output_type": "display_data"
    }
   ],
   "source": [
    "# visualize the symmetric matrix\n",
    "plt.matshow(A)"
   ]
  },
  {
   "cell_type": "code",
   "execution_count": 182,
   "metadata": {},
   "outputs": [
    {
     "data": {
      "text/plain": [
       "-555.4311690335859"
      ]
     },
     "execution_count": 182,
     "metadata": {},
     "output_type": "execute_result"
    }
   ],
   "source": [
    "# check the determinant\n",
    "np.linalg.det(A)"
   ]
  },
  {
   "cell_type": "code",
   "execution_count": 183,
   "metadata": {},
   "outputs": [],
   "source": [
    "# calculate eigenvalues and eigenvectors\n",
    "w_true,v_true = np.linalg.eig(A)"
   ]
  },
  {
   "cell_type": "markdown",
   "metadata": {},
   "source": [
    "# 1(b)"
   ]
  },
  {
   "cell_type": "code",
   "execution_count": 184,
   "metadata": {},
   "outputs": [],
   "source": [
    "def power_iteration(A, iterations):\n",
    "    \n",
    "    '''Finds the largest eigenvalue of matrix A.'''\n",
    "    \n",
    "    w_true,v_true = np.linalg.eig(A)\n",
    "    w0_true = w_true[np.argmax(np.abs(w_true))]\n",
    "    \n",
    "    # set up plot\n",
    "    plt.figure(figsize=[10,6])\n",
    "    \n",
    "    # first guess at eigenvector\n",
    "    b = np.random.randn(A.shape[1])\n",
    "    b = b / norm(b)\n",
    "    \n",
    "    # power iterate\n",
    "    for i in np.arange(0,iterations,1):\n",
    "        b = A@b / np.linalg.norm(A@b)\n",
    "        \n",
    "        # use rayleigh quotient to compute eigenvalue\n",
    "        w = b.T.conjugate()@A@b/(b.T.conjugate()@b)\n",
    "        \n",
    "        #plot eigenvalue approaching true eigenvalue\n",
    "        plt.scatter(i,np.abs(w0_true-w), c='C0', alpha=.3)\n",
    "        if i == iterations-1:\n",
    "            plt.scatter(i,np.abs(w0_true-w), c='C0')\n",
    "            \n",
    "    plt.title('Power Iteration - Largest Eigenvalue Error')\n",
    "    plt.yscale('log');\n",
    "    plt.ylabel('Absolute Error \\n (Log Scale)'); plt.xlabel('Iterations');\n",
    "    \n",
    "    return w,b"
   ]
  },
  {
   "cell_type": "code",
   "execution_count": 185,
   "metadata": {},
   "outputs": [
    {
     "data": {
      "image/png": "[encoded data removed]",
      "text/plain": [
       "<Figure size 720x432 with 1 Axes>"
      ]
     },
     "metadata": {
      "needs_background": "light"
     },
     "output_type": "display_data"
    }
   ],
   "source": [
    "w,b = power_iteration(A, iterations=100)"
   ]
  },
  {
   "cell_type": "markdown",
   "metadata": {},
   "source": [
    "Error in the iteration method drops exponentially as seen in the Log-Linear plot above, until settling around $ 10^{-14} $. Likely no longer dropping due to roundoff at floating point precision."
   ]
  },
  {
   "cell_type": "markdown",
   "metadata": {},
   "source": [
    "# 1(c)"
   ]
  },
  {
   "cell_type": "code",
   "execution_count": 186,
   "metadata": {},
   "outputs": [],
   "source": [
    "def rayleigh_quotient_iteration(A, iterations=10):\n",
    "    \n",
    "    '''Finds the eigenvalues of matrix A.'''\n",
    "    \n",
    "    w_true,v_true = np.linalg.eig(A)\n",
    "    w0_true = w_true[np.argmax(np.abs(w_true))]\n",
    "    \n",
    "    # first guess at eigenvector\n",
    "    b = np.random.rand(A.shape[0])\n",
    "    b = b / norm(b)\n",
    "\n",
    "    q,r = np.linalg.qr(A)\n",
    "    \n",
    "    # first guess at eigenvalue\n",
    "    w = b.T.conjugate()@A@b/(b.T.conjugate()@b)\n",
    "\n",
    "    # Rayleigh Quotient iteration\n",
    "    for i in np.arange(0,iterations,1):\n",
    "\n",
    "        b = inv((A - w*np.identity(A.shape[0])))@b / norm(inv((A - w*np.identity(A.shape[0])))@b)\n",
    "        w = b.T.conjugate()@A@b/(b.T.conjugate()@b)\n",
    "\n",
    "    return w,b"
   ]
  },
  {
   "cell_type": "code",
   "execution_count": 187,
   "metadata": {},
   "outputs": [],
   "source": [
    "w,b = rayleigh_quotient_iteration(A)"
   ]
  },
  {
   "cell_type": "code",
   "execution_count": 188,
   "metadata": {},
   "outputs": [],
   "source": [
    "w0_true = w_true[min(range(len(w_true)), key=lambda j: abs(w_true[j]-w))]"
   ]
  },
  {
   "cell_type": "code",
   "execution_count": 189,
   "metadata": {},
   "outputs": [
    {
     "data": {
      "text/plain": [
       "0.7141321774127465"
      ]
     },
     "execution_count": 189,
     "metadata": {},
     "output_type": "execute_result"
    }
   ],
   "source": [
    "w"
   ]
  },
  {
   "cell_type": "code",
   "execution_count": 190,
   "metadata": {},
   "outputs": [
    {
     "data": {
      "text/plain": [
       "0.714132177412747"
      ]
     },
     "execution_count": 190,
     "metadata": {},
     "output_type": "execute_result"
    }
   ],
   "source": [
    "w0_true"
   ]
  },
  {
   "cell_type": "markdown",
   "metadata": {},
   "source": [
    "Simply guessing at the eigenvectors and performing Rayleigh Quotient Iteration converges cubically to a single eigenvalue and vector. This does not give all 10 eigenvalues, and randomly guessing until all 10 are found would be inefficient.\n",
    "\n",
    "I will have to improve the inital guesses to improve the convergance."
   ]
  },
  {
   "cell_type": "code",
   "execution_count": 191,
   "metadata": {},
   "outputs": [],
   "source": [
    "def rayleigh_quotient_iteration(A, iterations=10):\n",
    "    \n",
    "    '''Finds the eigenvalues of matrix A.'''\n",
    "    \n",
    "    w_true,v_true = np.linalg.eig(A)\n",
    "    w0_true = w_true[np.argmax(np.abs(w_true))]\n",
    "    \n",
    "    w_found = []\n",
    "    \n",
    "    # first guess at eigenvector\n",
    "    b = np.random.rand(A.shape[0])\n",
    "    b = b / norm(b)\n",
    "\n",
    "    q,r = np.linalg.qr(A)\n",
    "    \n",
    "    # first guess at eigenvalue\n",
    "    w = b.T.conjugate()@A@b/(b.T.conjugate()@b)\n",
    "\n",
    "    # Rayleigh Quotient iteration\n",
    "    for i in np.arange(0,iterations,1):\n",
    "\n",
    "        b = inv((A - w*np.identity(A.shape[0])))@b / norm(inv((A - w*np.identity(A.shape[0])))@b)\n",
    "        w = b.T.conjugate()@A@b/(b.T.conjugate()@b)\n",
    "\n",
    "        w0_true = w_true[min(range(len(w_true)), key=lambda j: abs(w_true[j]-w))]\n",
    "\n",
    "        if np.abs(w0_true-w) < 1e-13:\n",
    "            if np.isclose(w_found, w).any():\n",
    "                break\n",
    "            else:\n",
    "                print(len(w_found))\n",
    "                w_found.append(w)\n",
    "            break\n",
    "    \n",
    "    return w_found,b"
   ]
  },
  {
   "cell_type": "code",
   "execution_count": 192,
   "metadata": {},
   "outputs": [
    {
     "name": "stdout",
     "output_type": "stream",
     "text": [
      "0\n"
     ]
    },
    {
     "data": {
      "text/plain": [
       "[0.7141321774127465]"
      ]
     },
     "execution_count": 192,
     "metadata": {},
     "output_type": "execute_result"
    }
   ],
   "source": [
    "w,b = rayleigh_quotient_iteration(A)\n",
    "w"
   ]
  },
  {
   "cell_type": "code",
   "execution_count": 193,
   "metadata": {},
   "outputs": [
    {
     "data": {
      "text/plain": [
       "array([-4.66772918,  3.73316879, -2.70027444, -2.4638162 ,  2.86126323,\n",
       "       -1.29182478, -0.6195318 ,  2.03435912,  0.71413218,  1.44012273])"
      ]
     },
     "execution_count": 193,
     "metadata": {},
     "output_type": "execute_result"
    }
   ],
   "source": [
    "w_true"
   ]
  },
  {
   "cell_type": "markdown",
   "metadata": {},
   "source": [
    "# 1(d)"
   ]
  },
  {
   "cell_type": "markdown",
   "metadata": {},
   "source": [
    "# 2(a)"
   ]
  },
  {
   "cell_type": "code",
   "execution_count": 194,
   "metadata": {},
   "outputs": [
    {
     "name": "stdout",
     "output_type": "stream",
     "text": [
      "number of images: 272\n"
     ]
    }
   ],
   "source": [
    "# Iterate through the cropped images folder finding all files\n",
    "filelist=[]\n",
    "for root, dirs, files in os.walk('C:\\\\Users\\\\Kelton\\\\UW\\\\AMATH584\\\\Homework\\\\hw2\\\\yalefaces_cropped'):\n",
    "    for file in files:\n",
    "        #append the file name to the list\n",
    "        filelist.append(os.path.join(root,file))\n",
    "        \n",
    "print('number of images:',len(filelist))"
   ]
  },
  {
   "cell_type": "code",
   "execution_count": 195,
   "metadata": {},
   "outputs": [],
   "source": [
    "# Build a list of images from the files\n",
    "images=[]\n",
    "for imgfile in filelist:\n",
    "    images.append(plt.imread(imgfile))"
   ]
  },
  {
   "cell_type": "code",
   "execution_count": 196,
   "metadata": {},
   "outputs": [
    {
     "name": "stdout",
     "output_type": "stream",
     "text": [
      "A Shape: (32256, 272)\n"
     ]
    }
   ],
   "source": [
    "# create a list of all array data from the images\n",
    "A = []\n",
    "for image in images:\n",
    "    A.append(np.reshape(image,(-1,1)))\n",
    "\n",
    "# create array from data\n",
    "A = np.array(A).squeeze()\n",
    "# check the shape of the array, each image is a column\n",
    "print('A Shape:',A.transpose().shape)\n",
    "A = A.transpose()"
   ]
  },
  {
   "cell_type": "markdown",
   "metadata": {},
   "source": [
    "Create a square correlation matrix:"
   ]
  },
  {
   "cell_type": "code",
   "execution_count": 197,
   "metadata": {},
   "outputs": [],
   "source": [
    "Acorr = pd.DataFrame(A).corr()"
   ]
  },
  {
   "cell_type": "code",
   "execution_count": 198,
   "metadata": {},
   "outputs": [
    {
     "data": {
      "text/plain": [
       "(272, 272)"
      ]
     },
     "execution_count": 198,
     "metadata": {},
     "output_type": "execute_result"
    }
   ],
   "source": [
    "Acorr.shape"
   ]
  },
  {
   "cell_type": "markdown",
   "metadata": {},
   "source": [
    "Define power iteration:"
   ]
  },
  {
   "cell_type": "code",
   "execution_count": 199,
   "metadata": {},
   "outputs": [],
   "source": [
    "def power_iteration_clean(A, iterations):\n",
    "    \n",
    "    '''Finds the largest eigenvalue of matrix A.'''\n",
    "    \n",
    "    w_true,v_true = np.linalg.eig(A)\n",
    "    w0_true = w_true[np.argmax(np.abs(w_true))]\n",
    "    \n",
    "    # first guess at eigenvector\n",
    "    b = np.random.randn(A.shape[1])\n",
    "    b = b / norm(b)\n",
    "    \n",
    "    # power iterate\n",
    "    for i in np.arange(0,iterations,1):\n",
    "        b = A@b / np.linalg.norm(A@b)\n",
    "        \n",
    "        # use rayleigh quotient to compute eigenvalue\n",
    "        w = b.T.conjugate()@A@b/(b.T.conjugate()@b)\n",
    "        \n",
    "    return w,b"
   ]
  },
  {
   "cell_type": "code",
   "execution_count": 200,
   "metadata": {},
   "outputs": [],
   "source": [
    "w,b = power_iteration_clean(np.array(Acorr), 10)"
   ]
  },
  {
   "cell_type": "code",
   "execution_count": 201,
   "metadata": {},
   "outputs": [],
   "source": [
    "u,s,v = np.linalg.svd(Acorr)"
   ]
  },
  {
   "cell_type": "code",
   "execution_count": 202,
   "metadata": {},
   "outputs": [
    {
     "data": {
      "image/png": "[encoded data removed]",
      "text/plain": [
       "<Figure size 720x432 with 1 Axes>"
      ]
     },
     "metadata": {
      "needs_background": "light"
     },
     "output_type": "display_data"
    }
   ],
   "source": [
    "plt.figure(figsize=[10,6])\n",
    "plt.stem(np.arange(0,s.shape[0],1),s)\n",
    "plt.xlim(-1,50);\n",
    "plt.title('SVD Modes'); plt.ylabel('Singular Values')\n",
    "plt.xlabel('Singular Value index');"
   ]
  },
  {
   "cell_type": "markdown",
   "metadata": {},
   "source": [
    "leading singular value:"
   ]
  },
  {
   "cell_type": "code",
   "execution_count": 203,
   "metadata": {},
   "outputs": [
    {
     "data": {
      "text/plain": [
       "90.36480489964875"
      ]
     },
     "execution_count": 203,
     "metadata": {},
     "output_type": "execute_result"
    }
   ],
   "source": [
    "s[0]"
   ]
  },
  {
   "cell_type": "markdown",
   "metadata": {},
   "source": [
    "largest eigenvalue:"
   ]
  },
  {
   "cell_type": "code",
   "execution_count": 204,
   "metadata": {},
   "outputs": [
    {
     "data": {
      "text/plain": [
       "90.3646008345804"
      ]
     },
     "execution_count": 204,
     "metadata": {},
     "output_type": "execute_result"
    }
   ],
   "source": [
    "w"
   ]
  },
  {
   "cell_type": "markdown",
   "metadata": {},
   "source": [
    "Nearly identical largest singular value and eigenvalue for square correlation matrix of image dataset."
   ]
  },
  {
   "cell_type": "markdown",
   "metadata": {},
   "source": [
    "# 2(b)"
   ]
  },
  {
   "cell_type": "code",
   "execution_count": 254,
   "metadata": {},
   "outputs": [],
   "source": [
    "def randomized_svd(A,p,iterations=3):\n",
    "    \n",
    "    '''compute randomized SVD.'''\n",
    "    \n",
    "    P = np.random.randn(A.shape[1],p)\n",
    "    \n",
    "    # Multiply A by Random matrix P\n",
    "    Z = A@P\n",
    "    \n",
    "    # Power Iterations\n",
    "    for i in np.arange(0,iterations,1):\n",
    "        Z = A@(A.T@Z)\n",
    "        \n",
    "    # QR Decomp - get orthogonal bases for Z\n",
    "    Q,R = np.linalg.qr(Z)\n",
    "    \n",
    "    # Changes Bases\n",
    "    Z = Q.T@A\n",
    "\n",
    "    u,s,v = np.linalg.svd(Z, full_matrices=False)\n",
    "    # project Q into u\n",
    "    u = Q@u\n",
    "    \n",
    "    return u,s,v"
   ]
  },
  {
   "cell_type": "markdown",
   "metadata": {},
   "source": [
    "10 randomized vectors in P, then projecting A into P, then recreating SVD with rSVD."
   ]
  },
  {
   "cell_type": "code",
   "execution_count": 206,
   "metadata": {},
   "outputs": [
    {
     "name": "stdout",
     "output_type": "stream",
     "text": [
      "2.26 ms ± 34 µs per loop (mean ± std. dev. of 7 runs, 100 loops each)\n"
     ]
    }
   ],
   "source": [
    "%%timeit\n",
    "randomized_svd(Acorr, 10)"
   ]
  },
  {
   "cell_type": "code",
   "execution_count": 207,
   "metadata": {},
   "outputs": [
    {
     "name": "stdout",
     "output_type": "stream",
     "text": [
      "8.16 ms ± 200 µs per loop (mean ± std. dev. of 7 runs, 100 loops each)\n"
     ]
    }
   ],
   "source": [
    "%%timeit\n",
    "np.linalg.svd(Acorr, 10)"
   ]
  },
  {
   "cell_type": "code",
   "execution_count": 241,
   "metadata": {},
   "outputs": [
    {
     "name": "stdout",
     "output_type": "stream",
     "text": [
      "(10, 272)\n"
     ]
    }
   ],
   "source": [
    "ru,rs,rv = randomized_svd(Acorr,10,2)"
   ]
  },
  {
   "cell_type": "code",
   "execution_count": 242,
   "metadata": {
    "scrolled": true
   },
   "outputs": [
    {
     "data": {
      "text/plain": [
       "(272, 10)"
      ]
     },
     "execution_count": 242,
     "metadata": {},
     "output_type": "execute_result"
    }
   ],
   "source": [
    "ru.shape"
   ]
  },
  {
   "cell_type": "code",
   "execution_count": 243,
   "metadata": {},
   "outputs": [
    {
     "data": {
      "text/plain": [
       "(10,)"
      ]
     },
     "execution_count": 243,
     "metadata": {},
     "output_type": "execute_result"
    }
   ],
   "source": [
    "rs.shape"
   ]
  },
  {
   "cell_type": "code",
   "execution_count": 244,
   "metadata": {},
   "outputs": [
    {
     "data": {
      "text/plain": [
       "(10, 272)"
      ]
     },
     "execution_count": 244,
     "metadata": {},
     "output_type": "execute_result"
    }
   ],
   "source": [
    "rv.shape"
   ]
  },
  {
   "cell_type": "code",
   "execution_count": 245,
   "metadata": {
    "scrolled": false
   },
   "outputs": [
    {
     "data": {
      "image/png": "[encoded data removed]",
      "text/plain": [
       "<Figure size 720x432 with 1 Axes>"
      ]
     },
     "metadata": {
      "needs_background": "light"
     },
     "output_type": "display_data"
    }
   ],
   "source": [
    "plt.figure(figsize=[10,6])\n",
    "plt.stem(np.arange(0,rs.shape[0],1),rs)\n",
    "plt.xlim(-1,50);\n",
    "plt.title('SVD Leading Modes'); plt.ylabel('Singular Value over Sum of Singular Values')\n",
    "plt.xlabel('Singular Value index');"
   ]
  },
  {
   "cell_type": "markdown",
   "metadata": {},
   "source": [
    "# 2(c)"
   ]
  },
  {
   "cell_type": "markdown",
   "metadata": {},
   "source": [
    "comparing randomized modes to true modes"
   ]
  },
  {
   "cell_type": "code",
   "execution_count": 274,
   "metadata": {},
   "outputs": [
    {
     "data": {
      "image/png": "[encoded data removed]",
      "text/plain": [
       "<Figure size 720x432 with 1 Axes>"
      ]
     },
     "metadata": {
      "needs_background": "light"
     },
     "output_type": "display_data"
    }
   ],
   "source": [
    "plt.figure(figsize=[10,6])\n",
    "for i in np.arange(0,6,1):\n",
    "    ru,rs,rv = randomized_svd(Acorr,10,i)\n",
    "    plt.plot(np.abs(s[:10]-rs) / s[:10], label=str(i)+' power iterations', ls='--', marker='o')\n",
    "plt.ylabel('% difference between true and randomized mode'); plt.legend()\n",
    "plt.xlabel('Mode (in order of decreasing singular value)')\n",
    "plt.title('Comparing Randomized to True Modes');"
   ]
  },
  {
   "cell_type": "markdown",
   "metadata": {},
   "source": [
    "With more power iterations (expensive computuationally) accuracy of the rSVD improves. Regardless of power iterations, in this case, the first few modes are very close to the true modes."
   ]
  },
  {
   "cell_type": "code",
   "execution_count": 302,
   "metadata": {},
   "outputs": [],
   "source": [
    "Bcorr=Acorr.copy()"
   ]
  },
  {
   "cell_type": "code",
   "execution_count": 310,
   "metadata": {},
   "outputs": [
    {
     "data": {
      "image/png": "[encoded data removed]",
      "text/plain": [
       "<Figure size 720x432 with 1 Axes>"
      ]
     },
     "metadata": {
      "needs_background": "light"
     },
     "output_type": "display_data"
    }
   ],
   "source": [
    "plt.figure(figsize=[10,6])\n",
    "U,S,V = np.linalg.svd(Acorr,full_matrices=False)\n",
    "Y=Bcorr\n",
    "#S=S/S[0]\n",
    "Bcorr=U@np.diag(S)@V\n",
    "plt.plot(S)\n",
    "for q in np.arange(1,6,1):\n",
    "    Y=Bcorr.T@Y\n",
    "    Y=Bcorr@Y\n",
    "    Uq,Sq,VTq = np.linalg.svd(Y, full_matrices=False)\n",
    "    plt.plot(Sq)\n",
    "plt.yscale('log')"
   ]
  },
  {
   "cell_type": "markdown",
   "metadata": {},
   "source": [
    "Singular values of the matrix already decay quite quickly, so I have put it on a log plot above "
   ]
  },
  {
   "cell_type": "code",
   "execution_count": null,
   "metadata": {},
   "outputs": [],
   "source": []
  }
 ],
 "metadata": {
  "kernelspec": {
   "display_name": "Python 3",
   "language": "python",
   "name": "python3"
  },
  "language_info": {
   "codemirror_mode": {
    "name": "ipython",
    "version": 3
   },
   "file_extension": ".py",
   "mimetype": "text/x-python",
   "name": "python",
   "nbconvert_exporter": "python",
   "pygments_lexer": "ipython3",
   "version": "3.7.9"
  }
 },
 "nbformat": 4,
 "nbformat_minor": 4
}
