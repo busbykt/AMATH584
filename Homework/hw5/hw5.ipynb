{
 "cells": [
  {
   "cell_type": "code",
   "execution_count": 42,
   "metadata": {},
   "outputs": [],
   "source": [
    "import numpy as np\n",
    "import matplotlib.pyplot as plt\n",
    "import matplotlib.animation as animation\n",
    "import scipy as sp"
   ]
  },
  {
   "cell_type": "markdown",
   "metadata": {},
   "source": [
    "# 1(a)"
   ]
  },
  {
   "cell_type": "code",
   "execution_count": 21,
   "metadata": {},
   "outputs": [],
   "source": [
    "# square dimension\n",
    "m=10\n",
    "\n",
    "# generate mxm symmetric matrix\n",
    "A = np.random.randn(m,m)\n",
    "A = (A+A.T)/2"
   ]
  },
  {
   "cell_type": "code",
   "execution_count": 22,
   "metadata": {},
   "outputs": [
    {
     "data": {
      "text/plain": [
       "<matplotlib.image.AxesImage at 0x20cef828608>"
      ]
     },
     "execution_count": 22,
     "metadata": {},
     "output_type": "execute_result"
    },
    {
     "data": {
      "image/png": "[encoded data removed]",
      "text/plain": [
       "<Figure size 288x288 with 1 Axes>"
      ]
     },
     "metadata": {
      "needs_background": "light"
     },
     "output_type": "display_data"
    }
   ],
   "source": [
    "# visualize the symmetric matrix\n",
    "plt.matshow(A)"
   ]
  },
  {
   "cell_type": "code",
   "execution_count": 27,
   "metadata": {},
   "outputs": [
    {
     "data": {
      "text/plain": [
       "68.47311695673885"
      ]
     },
     "execution_count": 27,
     "metadata": {},
     "output_type": "execute_result"
    }
   ],
   "source": [
    "# check the determinant\n",
    "np.linalg.det(A)"
   ]
  },
  {
   "cell_type": "code",
   "execution_count": 100,
   "metadata": {},
   "outputs": [],
   "source": [
    "# calculate eigenvalues and eigenvectors\n",
    "w,v = np.linalg.eig(A)"
   ]
  },
  {
   "cell_type": "markdown",
   "metadata": {},
   "source": [
    "# 1(b)"
   ]
  },
  {
   "cell_type": "code",
   "execution_count": 152,
   "metadata": {},
   "outputs": [],
   "source": [
    "def power_iteration(A, iterations):\n",
    "    \n",
    "    '''Finds the largest eigenvalue of matrix A.'''\n",
    "    \n",
    "    w_true,v_true = np.linalg.eig(A)\n",
    "    w0_true = w_true[np.argmax(np.abs(w_true))]\n",
    "    \n",
    "    # set up plot\n",
    "    plt.figure(figsize=[10,6])\n",
    "    \n",
    "    # first guess at eigenvector\n",
    "    b = np.random.randn(A.shape[0])\n",
    "    \n",
    "    # power iterate\n",
    "    for i in np.arange(0,iterations,1):\n",
    "        b = A@b / np.linalg.norm(A@b)\n",
    "        \n",
    "        # use rayleigh quotient to compute eigenvalue\n",
    "        w = b.T.conjugate()@A@b/(b.T.conjugate()@b)\n",
    "        \n",
    "        #plot eigenvalue approaching true eigenvalue\n",
    "        plt.scatter(i,np.abs(w0_true-w), c='C0', alpha=.3)\n",
    "        if i == iterations-1:\n",
    "            plt.scatter(i,np.abs(w0_true-w), c='C0')\n",
    "            \n",
    "    plt.title('Power Iteration - Largest Eigenvalue Error')\n",
    "    plt.yscale('log');\n",
    "    plt.ylabel('Absolute Error \\n (Log Scale)'); plt.xlabel('Iterations');\n",
    "    \n",
    "    return w,b"
   ]
  },
  {
   "cell_type": "code",
   "execution_count": 160,
   "metadata": {},
   "outputs": [
    {
     "data": {
      "image/png": "[encoded data removed]",
      "text/plain": [
       "<Figure size 720x432 with 1 Axes>"
      ]
     },
     "metadata": {
      "needs_background": "light"
     },
     "output_type": "display_data"
    }
   ],
   "source": [
    "w,b = power_iteration(A, iterations=100)"
   ]
  },
  {
   "cell_type": "markdown",
   "metadata": {},
   "source": [
    "Error in the iteration method drops exponentially as seen in the Log-Linear plot above, until settling around $ 10^{-14} $. Likely no longer dropping due to roundoff at floating point precision."
   ]
  },
  {
   "cell_type": "markdown",
   "metadata": {},
   "source": [
    "# 1(c)"
   ]
  },
  {
   "cell_type": "code",
   "execution_count": null,
   "metadata": {},
   "outputs": [],
   "source": [
    "def rayleigh_quotient_iteration(A, iterations):\n",
    "    \n",
    "    '''Finds the largest eigenvalue of matrix A.'''\n",
    "    \n",
    "    w_true,v_true = np.linalg.eig(A)\n",
    "    w0_true = w_true[np.argmax(np.abs(w_true))]\n",
    "    \n",
    "    # set up plot\n",
    "    plt.figure(figsize=[10,6])\n",
    "    \n",
    "    # first guess at eigenvector\n",
    "    b = np.random.randn(A.shape[0])\n",
    "    \n",
    "    # power iterate\n",
    "    for i in np.arange(0,iterations,1):\n",
    "        b = A@b / np.linalg.norm(A@b)\n",
    "        \n",
    "        # use rayleigh quotient to compute eigenvalue\n",
    "        w = b.T.conjugate()@A@b/(b.T.conjugate()@b)\n",
    "        \n",
    "        #plot eigenvalue approaching true eigenvalue\n",
    "        plt.scatter(i,np.abs(w0_true-w), c='C0', alpha=.3)\n",
    "        if i == iterations-1:\n",
    "            plt.scatter(i,np.abs(w0_true-w), c='C0')\n",
    "            \n",
    "    plt.title('Power Iteration - Largest Eigenvalue Error')\n",
    "    plt.yscale('log');\n",
    "    plt.ylabel('Absolute Error \\n (Log Scale)'); plt.xlabel('Iterations');\n",
    "    \n",
    "    return w,b"
   ]
  },
  {
   "cell_type": "code",
   "execution_count": null,
   "metadata": {},
   "outputs": [],
   "source": []
  },
  {
   "cell_type": "code",
   "execution_count": null,
   "metadata": {},
   "outputs": [],
   "source": []
  }
 ],
 "metadata": {
  "kernelspec": {
   "display_name": "Python 3",
   "language": "python",
   "name": "python3"
  },
  "language_info": {
   "codemirror_mode": {
    "name": "ipython",
    "version": 3
   },
   "file_extension": ".py",
   "mimetype": "text/x-python",
   "name": "python",
   "nbconvert_exporter": "python",
   "pygments_lexer": "ipython3",
   "version": "3.7.9"
  }
 },
 "nbformat": 4,
 "nbformat_minor": 4
}
