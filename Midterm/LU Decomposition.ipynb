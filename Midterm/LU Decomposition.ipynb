{
 "cells": [
  {
   "cell_type": "code",
   "execution_count": 185,
   "metadata": {},
   "outputs": [],
   "source": [
    "import numpy as np\n",
    "from scipy.linalg import lu"
   ]
  },
  {
   "cell_type": "code",
   "execution_count": 186,
   "metadata": {},
   "outputs": [],
   "source": [
    "def LU(A):\n",
    "    '''Performs LU Decomposition with partial pivoting.'''\n",
    "    \n",
    "    U=A.copy();\n",
    "    L=np.zeros([A.shape[1],A.shape[1]])\n",
    "    \n",
    "    m=A.shape[0]\n",
    "    n=A.shape[1]\n",
    "    \n",
    "    for k in np.arange(0,m,1):\n",
    "        P=np.identity(A.shape[1])\n",
    "        \n",
    "        # Select pivot row\n",
    "        row = k+np.argmax(np.abs(U[k:,k]))\n",
    "        # swap the current and pivot rows\n",
    "        # pivot P matrix\n",
    "        temp = P[k,:].copy()\n",
    "        P[k,:] = P[row,:]\n",
    "        P[row,:] = temp\n",
    "        \n",
    "        U = P@U\n",
    "        L = P@L\n",
    "        \n",
    "        L[k,k]=1\n",
    "        \n",
    "        for j in np.arange(k+1,m,1):\n",
    "\n",
    "            L[j,k] = U[j,k] / U[k,k]\n",
    "            U[j,k:m] = U[j,k:m] - L[j,k]*U[k,k:m]\n",
    "\n",
    "    return P,L,U"
   ]
  },
  {
   "cell_type": "code",
   "execution_count": 187,
   "metadata": {},
   "outputs": [
    {
     "data": {
      "text/plain": [
       "array([[2, 1, 1, 1],\n",
       "       [4, 3, 3, 1],\n",
       "       [8, 7, 9, 5],\n",
       "       [6, 7, 9, 8]])"
      ]
     },
     "execution_count": 187,
     "metadata": {},
     "output_type": "execute_result"
    }
   ],
   "source": [
    "A=np.array([[2, 1, 1, 1], [4, 3, 3, 1], [8, 7, 9, 5], [6, 7, 9, 8]])\n",
    "A"
   ]
  },
  {
   "cell_type": "code",
   "execution_count": 188,
   "metadata": {},
   "outputs": [],
   "source": [
    "p,l,u = lu(A)"
   ]
  },
  {
   "cell_type": "code",
   "execution_count": 189,
   "metadata": {},
   "outputs": [],
   "source": [
    "P,L,U=LU(A)"
   ]
  },
  {
   "cell_type": "markdown",
   "metadata": {},
   "source": [
    "Compare scipy lu (lower case results) and my homegrown LU (upper case results)"
   ]
  },
  {
   "cell_type": "code",
   "execution_count": 190,
   "metadata": {
    "scrolled": true
   },
   "outputs": [
    {
     "data": {
      "text/plain": [
       "array([[ 1.        ,  0.        ,  0.        ,  0.        ],\n",
       "       [ 0.75      ,  1.        ,  0.        ,  0.        ],\n",
       "       [ 0.5       , -0.28571429,  1.        ,  0.        ],\n",
       "       [ 0.25      , -0.42857143,  0.33333333,  1.        ]])"
      ]
     },
     "execution_count": 190,
     "metadata": {},
     "output_type": "execute_result"
    }
   ],
   "source": [
    "L"
   ]
  },
  {
   "cell_type": "code",
   "execution_count": 191,
   "metadata": {},
   "outputs": [
    {
     "data": {
      "text/plain": [
       "array([[ 1.        ,  0.        ,  0.        ,  0.        ],\n",
       "       [ 0.75      ,  1.        ,  0.        ,  0.        ],\n",
       "       [ 0.5       , -0.28571429,  1.        ,  0.        ],\n",
       "       [ 0.25      , -0.42857143,  0.33333333,  1.        ]])"
      ]
     },
     "execution_count": 191,
     "metadata": {},
     "output_type": "execute_result"
    }
   ],
   "source": [
    "l"
   ]
  },
  {
   "cell_type": "code",
   "execution_count": 192,
   "metadata": {},
   "outputs": [
    {
     "data": {
      "text/plain": [
       "array([[ 8.        ,  7.        ,  9.        ,  5.        ],\n",
       "       [ 0.        ,  1.75      ,  2.25      ,  4.25      ],\n",
       "       [ 0.        ,  0.        , -0.85714286, -0.28571429],\n",
       "       [ 0.        ,  0.        ,  0.        ,  1.66666667]])"
      ]
     },
     "execution_count": 192,
     "metadata": {},
     "output_type": "execute_result"
    }
   ],
   "source": [
    "U"
   ]
  },
  {
   "cell_type": "code",
   "execution_count": 193,
   "metadata": {},
   "outputs": [
    {
     "data": {
      "text/plain": [
       "array([[ 8.        ,  7.        ,  9.        ,  5.        ],\n",
       "       [ 0.        ,  1.75      ,  2.25      ,  4.25      ],\n",
       "       [ 0.        ,  0.        , -0.85714286, -0.28571429],\n",
       "       [ 0.        ,  0.        ,  0.        ,  1.66666667]])"
      ]
     },
     "execution_count": 193,
     "metadata": {},
     "output_type": "execute_result"
    }
   ],
   "source": [
    "u"
   ]
  }
 ],
 "metadata": {
  "kernelspec": {
   "display_name": "Python 3",
   "language": "python",
   "name": "python3"
  },
  "language_info": {
   "codemirror_mode": {
    "name": "ipython",
    "version": 3
   },
   "file_extension": ".py",
   "mimetype": "text/x-python",
   "name": "python",
   "nbconvert_exporter": "python",
   "pygments_lexer": "ipython3",
   "version": "3.7.9"
  }
 },
 "nbformat": 4,
 "nbformat_minor": 4
}
